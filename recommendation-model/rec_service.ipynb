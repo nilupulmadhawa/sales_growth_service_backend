{
  "cells": [
    {
      "cell_type": "code",
      "execution_count": null,
      "metadata": {
        "colab": {
          "base_uri": "https://localhost:8080/"
        },
        "id": "f2BEiRazQUXZ",
        "outputId": "bb524dfa-d636-4978-be1c-31cf73a5b395"
      },
      "outputs": [
        {
          "name": "stdout",
          "output_type": "stream",
          "text": [
            "Mounted at /content/drive\n"
          ]
        }
      ],
      "source": [
        "from google.colab import drive\n",
        "drive.mount('/content/drive')"
      ]
    },
    {
      "cell_type": "code",
      "execution_count": null,
      "metadata": {
        "colab": {
          "base_uri": "https://localhost:8080/"
        },
        "id": "W7R_Qf2zQhwq",
        "outputId": "f84df21c-7644-4adf-a85d-98e74589feaa"
      },
      "outputs": [
        {
          "name": "stdout",
          "output_type": "stream",
          "text": [
            "Collecting lightfm\n",
            "  Downloading lightfm-1.17.tar.gz (316 kB)\n",
            "\u001b[?25l     \u001b[90m━━━━━━━━━━━━━━━━━━━━━━━━━━━━━━━━━━━━━━━━\u001b[0m \u001b[32m0.0/316.4 kB\u001b[0m \u001b[31m?\u001b[0m eta \u001b[36m-:--:--\u001b[0m\r\u001b[2K     \u001b[91m━━━━━━━━━\u001b[0m\u001b[90m╺\u001b[0m\u001b[90m━━━━━━━━━━━━━━━━━━━━━━━━━━━━━━\u001b[0m \u001b[32m71.7/316.4 kB\u001b[0m \u001b[31m1.9 MB/s\u001b[0m eta \u001b[36m0:00:01\u001b[0m\r\u001b[2K     \u001b[90m━━━━━━━━━━━━━━━━━━━━━━━━━━━━━━━━━━━━━━━━\u001b[0m \u001b[32m316.4/316.4 kB\u001b[0m \u001b[31m4.6 MB/s\u001b[0m eta \u001b[36m0:00:00\u001b[0m\n",
            "\u001b[?25h  Preparing metadata (setup.py) ... \u001b[?25l\u001b[?25hdone\n",
            "Requirement already satisfied: numpy in /usr/local/lib/python3.10/dist-packages (from lightfm) (1.25.2)\n",
            "Requirement already satisfied: scipy>=0.17.0 in /usr/local/lib/python3.10/dist-packages (from lightfm) (1.11.4)\n",
            "Requirement already satisfied: requests in /usr/local/lib/python3.10/dist-packages (from lightfm) (2.31.0)\n",
            "Requirement already satisfied: scikit-learn in /usr/local/lib/python3.10/dist-packages (from lightfm) (1.2.2)\n",
            "Requirement already satisfied: charset-normalizer<4,>=2 in /usr/local/lib/python3.10/dist-packages (from requests->lightfm) (3.3.2)\n",
            "Requirement already satisfied: idna<4,>=2.5 in /usr/local/lib/python3.10/dist-packages (from requests->lightfm) (3.6)\n",
            "Requirement already satisfied: urllib3<3,>=1.21.1 in /usr/local/lib/python3.10/dist-packages (from requests->lightfm) (2.0.7)\n",
            "Requirement already satisfied: certifi>=2017.4.17 in /usr/local/lib/python3.10/dist-packages (from requests->lightfm) (2024.2.2)\n",
            "Requirement already satisfied: joblib>=1.1.1 in /usr/local/lib/python3.10/dist-packages (from scikit-learn->lightfm) (1.3.2)\n",
            "Requirement already satisfied: threadpoolctl>=2.0.0 in /usr/local/lib/python3.10/dist-packages (from scikit-learn->lightfm) (3.4.0)\n",
            "Building wheels for collected packages: lightfm\n",
            "  Building wheel for lightfm (setup.py) ... \u001b[?25l\u001b[?25hdone\n",
            "  Created wheel for lightfm: filename=lightfm-1.17-cp310-cp310-linux_x86_64.whl size=808327 sha256=978d14a50e660001fa94ca9f7ae3d6b492456e92b8330328cfba7ce278fd253e\n",
            "  Stored in directory: /root/.cache/pip/wheels/4f/9b/7e/0b256f2168511d8fa4dae4fae0200fdbd729eb424a912ad636\n",
            "Successfully built lightfm\n",
            "Installing collected packages: lightfm\n",
            "Successfully installed lightfm-1.17\n"
          ]
        }
      ],
      "source": [
        "!pip install lightfm"
      ]
    },
    {
      "cell_type": "code",
      "execution_count": 2,
      "metadata": {
        "id": "JCFjIpi6Qkrt"
      },
      "outputs": [],
      "source": [
        "import pandas as pd\n",
        "import numpy as np\n",
        "from lightfm import LightFM\n",
        "from lightfm.data import Dataset\n",
        "from lightfm.evaluation import precision_at_k, auc_score, reciprocal_rank\n",
        "from lightfm.cross_validation import random_train_test_split\n",
        "import matplotlib.pyplot as plt\n",
        "import joblib"
      ]
    },
    {
      "cell_type": "code",
      "execution_count": 3,
      "metadata": {
        "id": "lr7kfJ09QlQK"
      },
      "outputs": [],
      "source": [
        "# Load your data\n",
        "users_df = pd.read_csv('/content/drive/MyDrive/recommendation_service_dataset/users.csv')\n",
        "products_df = pd.read_csv('/content/drive/MyDrive/recommendation_service_dataset/products.csv')\n",
        "events_df = pd.read_csv('/content/drive/MyDrive/recommendation_service_dataset/events.csv')\n"
      ]
    },
    {
      "cell_type": "code",
      "execution_count": 4,
      "metadata": {
        "colab": {
          "base_uri": "https://localhost:8080/"
        },
        "id": "cPZhr84tQoyf",
        "outputId": "06df5a31-7a0d-4941-91a1-e7945255b782"
      },
      "outputs": [
        {
          "output_type": "stream",
          "name": "stdout",
          "text": [
            "           id  user_id  sequence_number                            session_id  \\\n",
            "15378  938936  72066.0                8  977abd27-0d66-4af1-bf8a-424ae311ff45   \n",
            "15380  225805  17033.0                8  fb5fd04f-83b8-448a-84d3-4864a0873a63   \n",
            "15382   57185   4292.0                2  b92bb449-4da4-4fc6-a113-b06d5ae91116   \n",
            "15383   91847   6942.0                5  16cd1dfd-f206-41cc-9a01-92b1c6b48ffa   \n",
            "15385  920430  70661.0                3  fe3f6125-f804-4fc5-b891-2e66f70ebf70   \n",
            "\n",
            "                    created_at      ip_address       city      state  \\\n",
            "15378  2024-02-04 05:42:27 UTC  50.204.179.168  São Paulo  São Paulo   \n",
            "15380  2022-09-22 05:43:27 UTC  52.156.208.189  São Paulo  São Paulo   \n",
            "15382  2021-07-16 01:41:36 UTC  129.217.221.84  São Paulo  São Paulo   \n",
            "15383  2023-11-06 09:30:13 UTC  74.169.206.224  São Paulo  São Paulo   \n",
            "15385  2023-07-12 13:44:21 UTC  154.57.135.173  São Paulo  São Paulo   \n",
            "\n",
            "      postal_code  browser traffic_source             uri event_type  \\\n",
            "15378   02220-000  Firefox       Facebook  /product/15052    product   \n",
            "15380   02675-031   Chrome        YouTube  /product/17627    product   \n",
            "15382   02675-031   Chrome        YouTube  /product/10284    product   \n",
            "15383   02675-031   Chrome        Adwords  /product/28556    product   \n",
            "15385   02675-031   Chrome          Email  /product/26770    product   \n",
            "\n",
            "       product_id  \n",
            "15378     15052.0  \n",
            "15380     17627.0  \n",
            "15382     10284.0  \n",
            "15383     28556.0  \n",
            "15385     26770.0  \n",
            "      id first_name last_name                       email  age gender state  \\\n",
            "0   3362     Edward   Hammond   edwardhammond@example.com   28      M  Acre   \n",
            "1  11259     Eugene   Cochran   eugenecochran@example.net   60      M  Acre   \n",
            "2  12709       Mark      Wong        markwong@example.org   35      M  Acre   \n",
            "3  13340    Michael   Freeman  michaelfreeman@example.net   24      M  Acre   \n",
            "4  30599      Emily    Walker     emilywalker@example.org   56      F  Acre   \n",
            "\n",
            "                 street_address postal_code        city country  latitude  \\\n",
            "0  43920 Ramirez Burgs Apt. 637   69917-400  Rio Branco  Brasil -9.945568   \n",
            "1             215 Kayla Estates   69917-400  Rio Branco  Brasil -9.945568   \n",
            "2              1399 Ryan Avenue   69917-400  Rio Branco  Brasil -9.945568   \n",
            "3             0335 Natasha Lane   69917-400  Rio Branco  Brasil -9.945568   \n",
            "4          23661 Amanda Islands   69917-400  Rio Branco  Brasil -9.945568   \n",
            "\n",
            "   longitude traffic_source               created_at age_group  \n",
            "0  -67.83561         Search  2019-02-22 10:44:00 UTC     26-35  \n",
            "1  -67.83561        Organic  2021-09-30 04:36:00 UTC     56-65  \n",
            "2  -67.83561         Search  2022-12-26 03:45:00 UTC     26-35  \n",
            "3  -67.83561        Organic  2024-02-26 02:43:00 UTC     19-25  \n",
            "4  -67.83561         Search  2022-09-07 06:22:00 UTC     56-65  \n"
          ]
        }
      ],
      "source": [
        "# Preprocessing\n",
        "events_df['product_id'] = events_df.apply(lambda row: int(row['uri'].split('/')[-1]) if '/product/' in row['uri'] else np.nan, axis=1)\n",
        "\n",
        "events_df = events_df.dropna(subset=['product_id', 'user_id'])\n",
        "\n",
        "events_df.loc[:, 'user_id'] = events_df['user_id'].astype(int)\n",
        "events_df.loc[:, 'product_id'] = events_df['product_id'].astype(int)\n",
        "\n",
        "filtered_events = events_df[events_df['user_id'].isin(users_df['id']) & events_df['product_id'].isin(products_df['id'])]\n",
        "\n",
        "# Add age group feature to users\n",
        "users_df['age_group'] = pd.cut(users_df['age'], bins=[0, 18, 25, 35, 45, 55, 65, 100], labels=['0-18', '19-25', '26-35', '36-45', '46-55', '56-65', '65+'])\n",
        "\n",
        "\n",
        "print(filtered_events.head())\n",
        "print(users_df.head())\n"
      ]
    },
    {
      "cell_type": "code",
      "execution_count": 5,
      "metadata": {
        "id": "0xpqfZzsQsJU"
      },
      "outputs": [],
      "source": [
        "# Prepare the dataset\n",
        "dataset = Dataset()\n",
        "dataset.fit(\n",
        "    users=(x for x in users_df['id']),\n",
        "    items=(x for x in products_df['id']),\n",
        "    user_features=(f\"{row['gender']}_{row['age_group']}_{row['state']}\" for index, row in users_df.iterrows()),\n",
        "    item_features=(f\"{row['category']}_{row['brand']}\" for index, row in products_df.iterrows())\n",
        ")\n",
        "\n",
        "(interactions_matrix, weights_matrix) = dataset.build_interactions(\n",
        "    (row['user_id'], row['product_id']) for index, row in filtered_events.iterrows()\n",
        ")\n",
        "\n",
        "user_features = dataset.build_user_features(\n",
        "    (row['id'], [f\"{row['gender']}_{row['age_group']}_{row['state']}\"])\n",
        "    for index, row in users_df[users_df['id'].isin(filtered_events['user_id'])].iterrows()\n",
        ")\n",
        "\n",
        "item_features = dataset.build_item_features(\n",
        "    (row['id'], [f\"{row['category']}_{row['brand']}\"])\n",
        "    for index, row in products_df[products_df['id'].isin(filtered_events['product_id'])].iterrows()\n",
        ")\n",
        "\n"
      ]
    },
    {
      "cell_type": "code",
      "source": [
        "import matplotlib.pyplot as plt\n",
        "\n",
        "# Assuming 'filtered_events' is your final events DataFrame after preprocessing\n",
        "# Interactions per User\n",
        "user_interactions = filtered_events.groupby('user_id').size()\n",
        "item_interactions = filtered_events.groupby('product_id').size()\n",
        "\n",
        "plt.figure(figsize=(14, 6))\n",
        "\n",
        "plt.subplot(1, 2, 1)\n",
        "user_interactions.hist(bins=30, edgecolor='black')\n",
        "plt.title('Interactions per User')\n",
        "plt.xlabel('Number of Interactions')\n",
        "plt.ylabel('Number of Users')\n",
        "\n",
        "plt.subplot(1, 2, 2)\n",
        "item_interactions.hist(bins=30, edgecolor='black')\n",
        "plt.title('Interactions per Item')\n",
        "plt.xlabel('Number of Interactions')\n",
        "plt.ylabel('Number of Items')\n",
        "\n",
        "plt.tight_layout()\n",
        "plt.show()\n"
      ],
      "metadata": {
        "colab": {
          "base_uri": "https://localhost:8080/",
          "height": 516
        },
        "id": "0T_soS1Fy3RX",
        "outputId": "f0c1ddec-4584-49cc-f6ae-1520997f0908"
      },
      "execution_count": 6,
      "outputs": [
        {
          "output_type": "display_data",
          "data": {
            "text/plain": [
              "<Figure size 1400x600 with 2 Axes>"
            ],
            "image/png": "[encoded data removed]"
          },
          "metadata": {}
        }
      ]
    },
    {
      "cell_type": "code",
      "source": [
        "# Split the data into training and testing sets\n",
        "train, test = random_train_test_split(interactions_matrix, test_percentage=0.2, random_state=np.random.RandomState(42))\n",
        "\n",
        "# Initialize the LightFM model with WARP loss function\n",
        "model = LightFM(loss='warp', no_components=30, user_alpha=1e-4, item_alpha=1e-4)\n"
      ],
      "metadata": {
        "id": "t6vmojAm0OwI"
      },
      "execution_count": 7,
      "outputs": []
    },
    {
      "cell_type": "code",
      "execution_count": 8,
      "metadata": {
        "colab": {
          "base_uri": "https://localhost:8080/"
        },
        "id": "KORbGLVAQvFL",
        "outputId": "4e7124f1-22f3-4905-c49e-63b7b05547b9"
      },
      "outputs": [
        {
          "output_type": "stream",
          "name": "stdout",
          "text": [
            "Epoch: 5 - Train Reciprocal Rank: 0.0064, Test Reciprocal Rank: 0.0034\n",
            "Epoch: 10 - Train Reciprocal Rank: 0.0169, Test Reciprocal Rank: 0.0081\n",
            "Epoch: 15 - Train Reciprocal Rank: 0.0311, Test Reciprocal Rank: 0.0137\n",
            "Epoch: 20 - Train Reciprocal Rank: 0.0464, Test Reciprocal Rank: 0.0194\n",
            "Epoch: 25 - Train Reciprocal Rank: 0.0637, Test Reciprocal Rank: 0.0255\n",
            "Epoch: 30 - Train Reciprocal Rank: 0.0806, Test Reciprocal Rank: 0.0313\n",
            "Epoch: 35 - Train Reciprocal Rank: 0.0967, Test Reciprocal Rank: 0.0371\n",
            "Epoch: 40 - Train Reciprocal Rank: 0.1117, Test Reciprocal Rank: 0.0417\n",
            "Epoch: 45 - Train Reciprocal Rank: 0.1258, Test Reciprocal Rank: 0.0458\n",
            "Epoch: 50 - Train Reciprocal Rank: 0.1391, Test Reciprocal Rank: 0.0497\n"
          ]
        }
      ],
      "source": [
        "from lightfm.evaluation import reciprocal_rank\n",
        "\n",
        "# Train the model with less frequent evaluations\n",
        "num_epochs = 50\n",
        "evaluation_interval = 5  # Evaluate every 5 epochs\n",
        "for epoch in range(num_epochs):\n",
        "    model.fit_partial(train, user_features=user_features, item_features=item_features, epochs=1)\n",
        "\n",
        "    if (epoch + 1) % evaluation_interval == 0:\n",
        "        train_rr = reciprocal_rank(model, train, user_features=user_features, item_features=item_features).mean()\n",
        "        test_rr = reciprocal_rank(model, test, user_features=user_features, item_features=item_features).mean()\n",
        "        print(f'Epoch: {epoch+1} - Train Reciprocal Rank: {train_rr:.4f}, Test Reciprocal Rank: {test_rr:.4f}')\n",
        "\n"
      ]
    },
    {
      "cell_type": "code",
      "source": [
        "# Final evaluation at the end of training\n",
        "train_precision = precision_at_k(model, train, k=10, user_features=user_features, item_features=item_features).mean()\n",
        "test_precision = precision_at_k(model, test, k=10, user_features=user_features, item_features=item_features).mean()\n",
        "train_auc = auc_score(model, train, user_features=user_features, item_features=item_features).mean()\n",
        "test_auc = auc_score(model, test, user_features=user_features, item_features=item_features).mean()\n",
        "\n",
        "print('Final evaluation results:')\n",
        "print(f'Precision: Train {train_precision:.4f}, Test {test_precision:.4f}')\n",
        "print(f'AUC: Train {train_auc:.4f}, Test {test_auc:.4f}')\n"
      ],
      "metadata": {
        "colab": {
          "base_uri": "https://localhost:8080/"
        },
        "id": "mCZCPFf-0Y3k",
        "outputId": "772621f5-138b-48cb-e8d4-8d6571804dc3"
      },
      "execution_count": 9,
      "outputs": [
        {
          "output_type": "stream",
          "name": "stdout",
          "text": [
            "Final evaluation results:\n",
            "Precision: Train 0.0387, Test 0.0145\n",
            "AUC: Train 0.9771, Test 0.8578\n"
          ]
        }
      ]
    },
    {
      "cell_type": "code",
      "execution_count": 13,
      "metadata": {
        "colab": {
          "base_uri": "https://localhost:8080/"
        },
        "id": "H-iM1r0uU8r2",
        "outputId": "a29c45dc-ec4f-44f1-9e36-569dff6cadd0"
      },
      "outputs": [
        {
          "output_type": "stream",
          "name": "stdout",
          "text": [
            "Recommended product IDs for user 17033: [19074, 3958, 6720, 20665, 18234, 16547, 25161, 9218, 21771, 22778]\n"
          ]
        }
      ],
      "source": [
        "# Sample recommendation function\n",
        "def sample_recommendation(model, user_id, user_features, item_features, dataset, num_items=10):\n",
        "    n_users, n_items = dataset.interactions_shape()\n",
        "    user_x = dataset.mapping()[0][user_id]\n",
        "    scores = model.predict(user_x, np.arange(n_items), user_features=user_features, item_features=item_features)\n",
        "    top_items = np.argsort(-scores)[:num_items]\n",
        "\n",
        "    return [dataset.mapping()[2][i] for i in top_items]\n",
        "\n",
        "# Test the recommendation function for a specific user 17033\n",
        "user_id = 17033\n",
        "recommended_products = sample_recommendation(model, user_id, user_features, item_features, dataset)\n",
        "print(f'Recommended product IDs for user {user_id}: {recommended_products}')"
      ]
    }
  ],
  "metadata": {
    "accelerator": "GPU",
    "colab": {
      "gpuType": "T4",
      "provenance": []
    },
    "kernelspec": {
      "display_name": "Python 3",
      "name": "python3"
    },
    "language_info": {
      "name": "python"
    }
  },
  "nbformat": 4,
  "nbformat_minor": 0
}