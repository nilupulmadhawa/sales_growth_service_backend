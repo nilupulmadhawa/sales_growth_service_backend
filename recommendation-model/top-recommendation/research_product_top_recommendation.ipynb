{
  "nbformat": 4,
  "nbformat_minor": 0,
  "metadata": {
    "colab": {
      "provenance": []
    },
    "kernelspec": {
      "name": "python3",
      "display_name": "Python 3"
    },
    "language_info": {
      "name": "python"
    }
  },
  "cells": [
    {
      "cell_type": "markdown",
      "source": [
        "Colloborative filtering model"
      ],
      "metadata": {
        "id": "btlqiMy7RhyO"
      }
    },
    {
      "cell_type": "code",
      "execution_count": 1,
      "metadata": {
        "id": "XDvpRPg1qA-h",
        "colab": {
          "base_uri": "https://localhost:8080/"
        },
        "outputId": "5e53e5af-0945-4d37-943c-724652c93800"
      },
      "outputs": [
        {
          "output_type": "stream",
          "name": "stdout",
          "text": [
            "Mounted at /content/drive\n"
          ]
        }
      ],
      "source": [
        "from google.colab import drive\n",
        "drive.mount('/content/drive')"
      ]
    },
    {
      "cell_type": "code",
      "source": [
        "import pandas as pd\n",
        "\n",
        "data = pd.read_csv('/content/drive/MyDrive/recommendation/multi-category-dataset-recommendation.csv')\n",
        "df = data.dropna()"
      ],
      "metadata": {
        "id": "Cv09QzWlqDYs"
      },
      "execution_count": 2,
      "outputs": []
    },
    {
      "cell_type": "code",
      "source": [
        "columns_to_keep = ['category_code', 'event_type', 'event_time', 'brand', 'price', 'age', 'gender', 'location']\n",
        "df = data[columns_to_keep].copy()\n",
        "\n",
        "split_category = df['category_code'].str.split('.', 1, expand=True)\n",
        "df['category'] = split_category[0]\n",
        "df['product_name'] = split_category[1]\n",
        "\n",
        "df['age'].fillna(df['age'].mean(), inplace=True)\n",
        "\n",
        "df['event_time'] = pd.to_datetime(df['event_time'], format='%Y-%m-%d %H:%M:%S %Z', utc=True)\n",
        "\n",
        "print(df.head())"
      ],
      "metadata": {
        "colab": {
          "base_uri": "https://localhost:8080/"
        },
        "id": "BEIddALlqIQv",
        "outputId": "7d2b39a3-4e1c-41b8-a905-3d91dc8cb7aa"
      },
      "execution_count": 3,
      "outputs": [
        {
          "output_type": "stream",
          "name": "stderr",
          "text": [
            "<ipython-input-3-9897b81faec8>:4: FutureWarning: In a future version of pandas all arguments of StringMethods.split except for the argument 'pat' will be keyword-only.\n",
            "  split_category = df['category_code'].str.split('.', 1, expand=True)\n"
          ]
        },
        {
          "output_type": "stream",
          "name": "stdout",
          "text": [
            "               category_code event_type                event_time   brand  \\\n",
            "0     electronics.smartphone       view 2019-11-01 00:00:00+00:00  xiaomi   \n",
            "1  appliances.sewing_machine       view 2019-11-01 00:00:00+00:00  janome   \n",
            "2                        NaN       view 2019-11-01 00:00:01+00:00   creed   \n",
            "3  appliances.kitchen.washer       view 2019-11-01 00:00:01+00:00      lg   \n",
            "4     electronics.smartphone       view 2019-11-01 00:00:01+00:00  xiaomi   \n",
            "\n",
            "    price  age gender       location     category    product_name  \n",
            "0  489.07   20      M       Northern  electronics      smartphone  \n",
            "1  293.65   25      M        Central   appliances  sewing_machine  \n",
            "2   28.31   20      F  North Central          NaN             NaN  \n",
            "3  712.87   18      M   Sabaragamuwa   appliances  kitchen.washer  \n",
            "4  183.27   53      M        Eastern  electronics      smartphone  \n"
          ]
        }
      ]
    },
    {
      "cell_type": "code",
      "source": [
        "import pandas as pd\n",
        "\n",
        "# Assuming you don't have a user_id, you can create user profiles based on age, gender, and location.\n",
        "user_profiles = df.groupby(['age', 'gender', 'location']).agg({\n",
        "    'event_type': 'count'\n",
        "}).reset_index()\n",
        "\n",
        "user_profiles.rename(columns={'event_type': 'total_interactions'}, inplace=True)\n",
        "\n",
        "print(user_profiles.head())\n"
      ],
      "metadata": {
        "colab": {
          "base_uri": "https://localhost:8080/"
        },
        "id": "X3B0eEjrs3ue",
        "outputId": "07c100d8-3a07-4fe5-969f-94ed77779056"
      },
      "execution_count": 4,
      "outputs": [
        {
          "output_type": "stream",
          "name": "stdout",
          "text": [
            "   age gender       location  total_interactions\n",
            "0   18      F        Central                  96\n",
            "1   18      F        Eastern                  81\n",
            "2   18      F  North Central                 101\n",
            "3   18      F  North Western                 110\n",
            "4   18      F       Northern                 122\n"
          ]
        }
      ]
    },
    {
      "cell_type": "code",
      "source": [
        "!pip install scikit-surprise"
      ],
      "metadata": {
        "colab": {
          "base_uri": "https://localhost:8080/"
        },
        "id": "yky3CVnlvNTJ",
        "outputId": "4f27ef87-5a6c-4932-a61f-920e16b0db58"
      },
      "execution_count": 5,
      "outputs": [
        {
          "output_type": "stream",
          "name": "stdout",
          "text": [
            "Collecting scikit-surprise\n",
            "  Downloading scikit-surprise-1.1.3.tar.gz (771 kB)\n",
            "\u001b[2K     \u001b[90m━━━━━━━━━━━━━━━━━━━━━━━━━━━━━━━━━━━━━━━━\u001b[0m \u001b[32m772.0/772.0 kB\u001b[0m \u001b[31m4.4 MB/s\u001b[0m eta \u001b[36m0:00:00\u001b[0m\n",
            "\u001b[?25h  Preparing metadata (setup.py) ... \u001b[?25l\u001b[?25hdone\n",
            "Requirement already satisfied: joblib>=1.0.0 in /usr/local/lib/python3.10/dist-packages (from scikit-surprise) (1.3.2)\n",
            "Requirement already satisfied: numpy>=1.17.3 in /usr/local/lib/python3.10/dist-packages (from scikit-surprise) (1.25.2)\n",
            "Requirement already satisfied: scipy>=1.3.2 in /usr/local/lib/python3.10/dist-packages (from scikit-surprise) (1.11.4)\n",
            "Building wheels for collected packages: scikit-surprise\n",
            "  Building wheel for scikit-surprise (setup.py) ... \u001b[?25l\u001b[?25hdone\n",
            "  Created wheel for scikit-surprise: filename=scikit_surprise-1.1.3-cp310-cp310-linux_x86_64.whl size=3162726 sha256=9aeee6b252c70777edd9a2cfe15f4e0c8ecbc60bdd6769bf556e521839bbe4ae\n",
            "  Stored in directory: /root/.cache/pip/wheels/a5/ca/a8/4e28def53797fdc4363ca4af740db15a9c2f1595ebc51fb445\n",
            "Successfully built scikit-surprise\n",
            "Installing collected packages: scikit-surprise\n",
            "Successfully installed scikit-surprise-1.1.3\n"
          ]
        }
      ]
    },
    {
      "cell_type": "code",
      "source": [
        "from surprise import Reader, Dataset, SVD, accuracy\n",
        "from surprise.model_selection import train_test_split\n",
        "\n",
        "df['event_type_binary'] = df['event_type'].map({'view': 1, 'cart': 2, 'purchase': 3})\n",
        "df['pseudo_user_id'] = pd.factorize(df['product_name'])[0]\n",
        "\n",
        "reader = Reader(rating_scale=(1, 3))  # The rating scale now accurately reflects our event type mapping\n",
        "data = Dataset.load_from_df(df[['pseudo_user_id', 'product_name', 'event_type_binary']], reader)\n",
        "\n",
        "trainset, testset = train_test_split(data, test_size=0.2, random_state=42)\n"
      ],
      "metadata": {
        "id": "AJWhjWDl-cTY"
      },
      "execution_count": 6,
      "outputs": []
    },
    {
      "cell_type": "code",
      "source": [
        "model = SVD()\n",
        "model.fit(trainset)"
      ],
      "metadata": {
        "colab": {
          "base_uri": "https://localhost:8080/"
        },
        "id": "Vfl1-mhTxfTw",
        "outputId": "4bb35d7b-13fe-4e36-d809-296e59a1d634"
      },
      "execution_count": 7,
      "outputs": [
        {
          "output_type": "execute_result",
          "data": {
            "text/plain": [
              "<surprise.prediction_algorithms.matrix_factorization.SVD at 0x7f962db46140>"
            ]
          },
          "metadata": {},
          "execution_count": 7
        }
      ]
    },
    {
      "cell_type": "code",
      "source": [
        "predictions = model.test(testset)"
      ],
      "metadata": {
        "id": "YVurDKABxpBx"
      },
      "execution_count": 8,
      "outputs": []
    },
    {
      "cell_type": "code",
      "source": [
        "# Recommendation function adapted for the scenario without using user IDs\n",
        "def collaborative_filtering_recommendation(num_recommendations=5):\n",
        "    # Calculate the average rating for each product\n",
        "    average_ratings = df.groupby('product_name')['event_type_binary'].mean().reset_index()\n",
        "\n",
        "    # Sort the products by their average rating in descending order\n",
        "    top_rated_products = average_ratings.sort_values(by='event_type_binary', ascending=False).head(num_recommendations)\n",
        "\n",
        "    # Return the top N recommended products\n",
        "    return top_rated_products\n",
        "\n",
        "# Get top recommended products\n",
        "top_recommendations = collaborative_filtering_recommendation()\n",
        "\n",
        "# Display the top recommended products\n",
        "print(\"Top Recommended Products:\")\n",
        "for index, row in top_recommendations.iterrows():\n",
        "    print(f\"Product Name: {row['product_name']}, Average Rating: {row['event_type_binary']}\")\n"
      ],
      "metadata": {
        "colab": {
          "base_uri": "https://localhost:8080/"
        },
        "id": "0Pw0ihNHySxm",
        "outputId": "03a81f42-8689-48fb-d1c5-e6ffe61c72ed"
      },
      "execution_count": 9,
      "outputs": [
        {
          "output_type": "stream",
          "name": "stdout",
          "text": [
            "Top Recommended Products:\n",
            "Product Name: shoes.sandals, Average Rating: 1.105263157894737\n",
            "Product Name: accessories.radar, Average Rating: 1.1014492753623188\n",
            "Product Name: components.power_supply, Average Rating: 1.0869565217391304\n",
            "Product Name: environment.water_heater, Average Rating: 1.0833333333333333\n",
            "Product Name: audio.headphone, Average Rating: 1.081798866855524\n"
          ]
        }
      ]
    },
    {
      "cell_type": "code",
      "source": [
        "rmse = accuracy.rmse(predictions)\n",
        "mae = accuracy.mae(predictions)"
      ],
      "metadata": {
        "colab": {
          "base_uri": "https://localhost:8080/"
        },
        "id": "ZPkJA6FKxsLt",
        "outputId": "d28ea95c-25e6-48fa-871d-a9a2f18fad21"
      },
      "execution_count": 10,
      "outputs": [
        {
          "output_type": "stream",
          "name": "stdout",
          "text": [
            "RMSE: 0.2644\n",
            "MAE:  0.0712\n"
          ]
        }
      ]
    },
    {
      "cell_type": "code",
      "source": [
        "# Print evaluation results\n",
        "print(f'RMSE: {rmse}')  # Root Mean Square Error\n",
        "print(f'MAE: {mae}')  # Mean Absolute Error\n"
      ],
      "metadata": {
        "colab": {
          "base_uri": "https://localhost:8080/"
        },
        "id": "x5BY-SMdx4ih",
        "outputId": "a948b961-7fb5-47da-dcfe-786bc973c19e"
      },
      "execution_count": 11,
      "outputs": [
        {
          "output_type": "stream",
          "name": "stdout",
          "text": [
            "RMSE: 0.26441333710480214\n",
            "MAE: 0.07120548019774448\n"
          ]
        }
      ]
    },
    {
      "cell_type": "code",
      "source": [
        "rmse_accuracy = 100 - (rmse * 100)\n",
        "mae_accuracy = 100 - (mae * 100)\n",
        "\n",
        "# Print the accuracy results as percentages\n",
        "print(f'RMSE Accuracy: {rmse_accuracy:.2f}%')\n",
        "print(f'MAE Accuracy: {mae_accuracy:.2f}%')"
      ],
      "metadata": {
        "colab": {
          "base_uri": "https://localhost:8080/"
        },
        "id": "ih6Bks3-x7RP",
        "outputId": "9c30888d-191a-4826-b102-84aaf6369d73"
      },
      "execution_count": 12,
      "outputs": [
        {
          "output_type": "stream",
          "name": "stdout",
          "text": [
            "RMSE Accuracy: 73.56%\n",
            "MAE Accuracy: 92.88%\n"
          ]
        }
      ]
    },
    {
      "cell_type": "code",
      "source": [
        "import pickle\n",
        "\n",
        "# Save the model\n",
        "with open('collaborative_model.pkl', 'wb') as file:\n",
        "    pickle.dump(model, file)\n",
        "\n",
        "print(\"Model saved successfully.\")"
      ],
      "metadata": {
        "id": "8bAelIcr-f25",
        "colab": {
          "base_uri": "https://localhost:8080/"
        },
        "outputId": "93e15d09-bfb2-4ad5-8624-b88709cf25bb"
      },
      "execution_count": 13,
      "outputs": [
        {
          "output_type": "stream",
          "name": "stdout",
          "text": [
            "Model saved successfully.\n"
          ]
        }
      ]
    },
    {
      "cell_type": "markdown",
      "source": [
        "Content Based Model"
      ],
      "metadata": {
        "id": "1TCNCdm5Rdi4"
      }
    },
    {
      "cell_type": "code",
      "source": [
        "df['product_profile'] = df.apply(lambda x: f\"{x['brand']}_{x['category']}_{x['product_name']}\", axis=1)\n"
      ],
      "metadata": {
        "id": "akiRAy6LRdCf"
      },
      "execution_count": 14,
      "outputs": []
    },
    {
      "cell_type": "code",
      "source": [
        "df['user_profile'] = df.apply(lambda x: f\"{x['age']}_{x['gender']}_{x['location']}\", axis=1)\n"
      ],
      "metadata": {
        "id": "Dpn5grikHNE_"
      },
      "execution_count": 15,
      "outputs": []
    },
    {
      "cell_type": "code",
      "source": [
        "event_type_mapping = {\n",
        "    'view': 1,\n",
        "    'cart': 2,\n",
        "    'purchase': 3\n",
        "}\n",
        "df['event_type_rating'] = df['event_type'].map(event_type_mapping)\n"
      ],
      "metadata": {
        "id": "yZqNFUXtHWly"
      },
      "execution_count": 16,
      "outputs": []
    },
    {
      "cell_type": "code",
      "source": [
        "reader = Reader(rating_scale=(1, 3))\n",
        "data = Dataset.load_from_df(df[['user_profile', 'product_profile', 'event_type_rating']], reader)\n"
      ],
      "metadata": {
        "id": "h6h9K5RZEkzF"
      },
      "execution_count": 17,
      "outputs": []
    },
    {
      "cell_type": "code",
      "source": [
        "trainset, testset = train_test_split(data, test_size=0.2, random_state=42)\n"
      ],
      "metadata": {
        "id": "9fgOG7zZHa8P"
      },
      "execution_count": 18,
      "outputs": []
    },
    {
      "cell_type": "code",
      "source": [
        "from surprise import Reader, Dataset, NMF, accuracy\n"
      ],
      "metadata": {
        "id": "0RlGlbtRHi85"
      },
      "execution_count": 19,
      "outputs": []
    },
    {
      "cell_type": "code",
      "source": [
        "content_model = NMF()\n",
        "content_model.fit(trainset)"
      ],
      "metadata": {
        "colab": {
          "base_uri": "https://localhost:8080/"
        },
        "id": "JsRZbUiAHd3C",
        "outputId": "be93f5d8-2ad3-4674-e770-1bef4f51476c"
      },
      "execution_count": 20,
      "outputs": [
        {
          "output_type": "execute_result",
          "data": {
            "text/plain": [
              "<surprise.prediction_algorithms.matrix_factorization.NMF at 0x7f962d9c8820>"
            ]
          },
          "metadata": {},
          "execution_count": 20
        }
      ]
    },
    {
      "cell_type": "code",
      "source": [
        "# Making predictions\n",
        "predictions = content_model.test(testset)\n",
        "\n",
        "# Evaluation\n",
        "rmse = accuracy.rmse(predictions)\n",
        "mae = accuracy.mae(predictions)"
      ],
      "metadata": {
        "colab": {
          "base_uri": "https://localhost:8080/"
        },
        "id": "bjxU7MhiHoZf",
        "outputId": "186574a4-9446-419c-c55b-c823afc5a3fb"
      },
      "execution_count": 21,
      "outputs": [
        {
          "output_type": "stream",
          "name": "stdout",
          "text": [
            "RMSE: 0.2670\n",
            "MAE:  0.0529\n"
          ]
        }
      ]
    },
    {
      "cell_type": "code",
      "source": [
        "print(f'RMSE: {rmse:.4f}, MAE: {mae:.4f}')\n",
        "\n",
        "# Recommendation function adapted for user profiles and product profiles\n",
        "def recommend_for_profile(user_profile, num_recommendations=5):\n",
        "    unique_product_profiles = df['product_profile'].unique()\n",
        "    predictions = [model.predict(user_profile, product_profile).est for product_profile in unique_product_profiles]\n",
        "    recommendations = sorted(zip(unique_product_profiles, predictions), key=lambda x: x[1], reverse=True)[:num_recommendations]\n",
        "    return recommendations\n",
        "\n",
        "# Example usage\n",
        "recommendations = recommend_for_profile(\"25_M_NewYork\", 5)\n",
        "print(\"Top 5 Recommendations:\")\n",
        "for product_profile, score in recommendations:\n",
        "    print(f\"{product_profile}: {score:.4f}\")"
      ],
      "metadata": {
        "colab": {
          "base_uri": "https://localhost:8080/"
        },
        "id": "QGhAj7lUHsA6",
        "outputId": "373304e7-a174-4cc8-bbb2-92454093c2e4"
      },
      "execution_count": 22,
      "outputs": [
        {
          "output_type": "stream",
          "name": "stdout",
          "text": [
            "RMSE: 0.2670, MAE: 0.0529\n",
            "Top 5 Recommendations:\n",
            "xiaomi_electronics_smartphone: 1.0388\n",
            "janome_appliances_sewing_machine: 1.0388\n",
            "creed_nan_nan: 1.0388\n",
            "lg_appliances_kitchen.washer: 1.0388\n",
            "hp_computers_notebook: 1.0388\n"
          ]
        }
      ]
    },
    {
      "cell_type": "code",
      "source": [
        "import pickle\n",
        "\n",
        "# Save the model\n",
        "with open('content_model.pkl', 'wb') as file:\n",
        "    pickle.dump(content_model, file)\n",
        "\n",
        "print(\"Model saved successfully.\")"
      ],
      "metadata": {
        "colab": {
          "base_uri": "https://localhost:8080/"
        },
        "id": "xbzrh864IEq4",
        "outputId": "20f733e2-138e-4b65-aa0a-7bd1c42952a9"
      },
      "execution_count": 23,
      "outputs": [
        {
          "output_type": "stream",
          "name": "stdout",
          "text": [
            "Model saved successfully.\n"
          ]
        }
      ]
    }
  ]
}