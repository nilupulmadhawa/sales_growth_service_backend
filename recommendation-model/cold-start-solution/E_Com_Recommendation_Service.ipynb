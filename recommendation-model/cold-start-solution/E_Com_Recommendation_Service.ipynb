{
  "nbformat": 4,
  "nbformat_minor": 0,
  "metadata": {
    "colab": {
      "provenance": [],
      "gpuType": "T4"
    },
    "kernelspec": {
      "name": "python3",
      "display_name": "Python 3"
    },
    "language_info": {
      "name": "python"
    },
    "accelerator": "GPU"
  },
  "cells": [
    {
      "cell_type": "code",
      "execution_count": 19,
      "metadata": {
        "colab": {
          "base_uri": "https://localhost:8080/"
        },
        "id": "1LRnp_bVs6RZ",
        "outputId": "980a78ad-c8eb-4a29-d67d-3a924a19d94d"
      },
      "outputs": [
        {
          "output_type": "stream",
          "name": "stdout",
          "text": [
            "Drive already mounted at /content/drive; to attempt to forcibly remount, call drive.mount(\"/content/drive\", force_remount=True).\n"
          ]
        }
      ],
      "source": [
        "from google.colab import drive\n",
        "drive.mount('/content/drive')"
      ]
    },
    {
      "cell_type": "code",
      "source": [
        "import pandas as pd\n",
        "\n",
        "data = pd.read_csv('/content/drive/MyDrive/recommendation/multi-category-dataset-recommendation.csv')\n",
        "df = data.dropna()\n",
        "\n",
        "columns_to_keep = ['user_id', 'category_code', 'event_type', 'event_time', 'brand', 'price', 'age', 'gender', 'location']\n",
        "df = data[columns_to_keep].copy()\n",
        "\n",
        "split_category = df['category_code'].str.split('.', 1, expand=True)\n",
        "df['category'] = split_category[0]\n",
        "df['product_name'] = split_category[1]\n",
        "\n",
        "df['age'].fillna(df['age'].mean(), inplace=True)\n",
        "\n",
        "df['event_time'] = pd.to_datetime(df['event_time'], format='%Y-%m-%d %H:%M:%S %Z', utc=True)\n",
        "\n",
        "print(df.head())"
      ],
      "metadata": {
        "colab": {
          "base_uri": "https://localhost:8080/"
        },
        "id": "UXQyjAnftdvM",
        "outputId": "434109ad-5b24-43e0-e2b0-6d90b8fea24d"
      },
      "execution_count": 20,
      "outputs": [
        {
          "output_type": "stream",
          "name": "stderr",
          "text": [
            "<ipython-input-20-15b7df242e10>:9: FutureWarning: In a future version of pandas all arguments of StringMethods.split except for the argument 'pat' will be keyword-only.\n",
            "  split_category = df['category_code'].str.split('.', 1, expand=True)\n"
          ]
        },
        {
          "output_type": "stream",
          "name": "stdout",
          "text": [
            "     user_id              category_code event_type                event_time  \\\n",
            "0  520088904     electronics.smartphone       view 2019-11-01 00:00:00+00:00   \n",
            "1  530496790  appliances.sewing_machine       view 2019-11-01 00:00:00+00:00   \n",
            "2  561587266                        NaN       view 2019-11-01 00:00:01+00:00   \n",
            "3  518085591  appliances.kitchen.washer       view 2019-11-01 00:00:01+00:00   \n",
            "4  558856683     electronics.smartphone       view 2019-11-01 00:00:01+00:00   \n",
            "\n",
            "    brand   price  age gender       location     category    product_name  \n",
            "0  xiaomi  489.07   20      M       Northern  electronics      smartphone  \n",
            "1  janome  293.65   25      M        Central   appliances  sewing_machine  \n",
            "2   creed   28.31   20      F  North Central          NaN             NaN  \n",
            "3      lg  712.87   18      M   Sabaragamuwa   appliances  kitchen.washer  \n",
            "4  xiaomi  183.27   53      M        Eastern  electronics      smartphone  \n"
          ]
        }
      ]
    },
    {
      "cell_type": "code",
      "source": [
        "user_profiles = df.groupby('user_id').agg({\n",
        "    'age': 'mean',\n",
        "    'gender': 'first',\n",
        "    'location': 'first'\n",
        "}).reset_index()\n",
        "\n",
        "user_interactions = df[df['event_type'].isin(['view', 'cart', 'purchase'])].groupby('user_id').agg({\n",
        "    'event_type': 'count'\n",
        "}).reset_index()\n",
        "\n",
        "user_interactions.rename(columns={'event_type': 'total_interactions'}, inplace=True)\n",
        "\n",
        "user_data = pd.merge(user_profiles, user_interactions, on='user_id')\n",
        "\n",
        "print(user_data.head())\n"
      ],
      "metadata": {
        "colab": {
          "base_uri": "https://localhost:8080/"
        },
        "id": "Lkoki82AvvDL",
        "outputId": "7a7eda91-bdf5-47e5-f3eb-daa96fca2fb1"
      },
      "execution_count": 21,
      "outputs": [
        {
          "output_type": "stream",
          "name": "stdout",
          "text": [
            "     user_id        age gender       location  total_interactions\n",
            "0  275256741  51.000000      F  North Western                   1\n",
            "1  295643776  45.875000      F   Sabaragamuwa                   8\n",
            "2  356520186  48.166667      F       Southern                   6\n",
            "3  384989212  21.000000      F   Sabaragamuwa                   1\n",
            "4  389979783  29.750000      M        Central                   4\n"
          ]
        }
      ]
    },
    {
      "cell_type": "code",
      "source": [
        "product_profiles = df.groupby(['brand', 'category', 'product_name']).agg({\n",
        "    'price': ['mean', 'min', 'max', 'std', 'count']\n",
        "}).reset_index()\n",
        "\n",
        "product_profiles.columns = [' '.join(col).strip() for col in product_profiles.columns.values]\n",
        "\n",
        "product_profiles.rename(columns={\n",
        "    'price mean': 'avg_price',\n",
        "    'price min': 'min_price',\n",
        "    'price max': 'max_price',\n",
        "    'price std': 'price_std',\n",
        "    'price count': 'product_count'\n",
        "}, inplace=True)\n",
        "\n",
        "print(product_profiles.head())\n"
      ],
      "metadata": {
        "colab": {
          "base_uri": "https://localhost:8080/"
        },
        "id": "bBPvfRZ_zBu-",
        "outputId": "fb6b666b-58f2-4356-a75f-b0ea54d127c7"
      },
      "execution_count": 22,
      "outputs": [
        {
          "output_type": "stream",
          "name": "stdout",
          "text": [
            "  brand     category         product_name   avg_price  min_price  max_price  \\\n",
            "0  acer  accessories                  bag   21.646000      12.07      36.01   \n",
            "1  acer    computers              desktop  919.270370     192.80    2574.04   \n",
            "2  acer    computers             notebook  593.541435     257.38    2312.80   \n",
            "3  acer    computers  peripherals.monitor  233.394433      66.67     725.63   \n",
            "4  acer  electronics               tablet  179.050625     159.33     194.08   \n",
            "\n",
            "    price_std  product_count  \n",
            "0   13.112478              5  \n",
            "1  768.397437            108  \n",
            "2  275.868713            676  \n",
            "3  139.816677             97  \n",
            "4   14.920438             16  \n"
          ]
        }
      ]
    },
    {
      "cell_type": "code",
      "source": [
        "category_count = df['category'].nunique()\n",
        "\n",
        "unique_categories = df['category'].unique()\n",
        "\n",
        "print(f\"Category Count: {category_count}\")\n",
        "print(\"Unique Categories:\")\n",
        "for category in unique_categories:\n",
        "    print(category)"
      ],
      "metadata": {
        "colab": {
          "base_uri": "https://localhost:8080/"
        },
        "id": "kuQk5JWJESHt",
        "outputId": "1c8dec7a-390a-4f81-8112-b1c99fb6adc5"
      },
      "execution_count": 23,
      "outputs": [
        {
          "output_type": "stream",
          "name": "stdout",
          "text": [
            "Category Count: 13\n",
            "Unique Categories:\n",
            "electronics\n",
            "appliances\n",
            "nan\n",
            "computers\n",
            "furniture\n",
            "apparel\n",
            "construction\n",
            "auto\n",
            "accessories\n",
            "kids\n",
            "sport\n",
            "medicine\n",
            "country_yard\n",
            "stationery\n"
          ]
        }
      ]
    },
    {
      "cell_type": "code",
      "source": [
        "!pip install scikit-surprise"
      ],
      "metadata": {
        "colab": {
          "base_uri": "https://localhost:8080/"
        },
        "id": "rjvdSUVsQvTH",
        "outputId": "e71cbe95-eb64-4668-9966-ded8014e118f"
      },
      "execution_count": 24,
      "outputs": [
        {
          "output_type": "stream",
          "name": "stdout",
          "text": [
            "Requirement already satisfied: scikit-surprise in /usr/local/lib/python3.10/dist-packages (1.1.3)\n",
            "Requirement already satisfied: joblib>=1.0.0 in /usr/local/lib/python3.10/dist-packages (from scikit-surprise) (1.3.2)\n",
            "Requirement already satisfied: numpy>=1.17.3 in /usr/local/lib/python3.10/dist-packages (from scikit-surprise) (1.25.2)\n",
            "Requirement already satisfied: scipy>=1.3.2 in /usr/local/lib/python3.10/dist-packages (from scikit-surprise) (1.11.4)\n"
          ]
        }
      ]
    },
    {
      "cell_type": "code",
      "source": [
        "from surprise import Reader, Dataset, SVD, accuracy\n",
        "from surprise.model_selection import train_test_split\n",
        "\n",
        "event_type_mapping = {\n",
        "    'view': 1,\n",
        "    'cart': 2,\n",
        "    'purchase': 3\n",
        "}\n",
        "\n",
        "df['event_type_rating'] = df['event_type'].map(event_type_mapping)\n",
        "\n",
        "reader = Reader(rating_scale=(1, 3))\n",
        "data = Dataset.load_from_df(df[['user_id', 'product_name', 'event_type_rating']], reader)\n",
        "\n",
        "trainset, testset = train_test_split(data, test_size=0.2, random_state=42)\n",
        "\n",
        "model = SVD()\n",
        "\n",
        "model.fit(trainset)\n",
        "\n",
        "predictions = model.test(testset)\n",
        "\n",
        "rmse = accuracy.rmse(predictions)\n",
        "mae = accuracy.mae(predictions)\n",
        "\n",
        "print(f'RMSE: {rmse}')\n",
        "print(f'MAE: {mae}')\n",
        "\n",
        "def collaborative_filtering_recommendation(user_id, num_recommendations=5):\n",
        "    all_product_names = df['product_name'].unique()\n",
        "\n",
        "    interacted_product_names = df[(df['user_id'] == user_id) & (df['event_type'] == 'purchase')]['product_name'].values\n",
        "\n",
        "    candidate_product_names = [product_name for product_name in all_product_names if product_name not in interacted_product_names]\n",
        "\n",
        "    user_ratings = [(user_id, product_name, model.predict(user_id, product_name).est) for product_name in candidate_product_names]\n",
        "\n",
        "    user_ratings.sort(key=lambda x: x[2], reverse=True)\n",
        "\n",
        "    top_n_recommendations = user_ratings[:num_recommendations]\n",
        "\n",
        "    return top_n_recommendations\n",
        "\n",
        "user_id_to_recommend = 520088904\n",
        "collaborative_recommendations = collaborative_filtering_recommendation(user_id_to_recommend)\n",
        "\n",
        "print(f\"Collaborative Filtering Recommendations for User {user_id_to_recommend}:\")\n",
        "for _, product_name, estimated_rating in collaborative_recommendations:\n",
        "    print(f\"Product Name: {product_name}, Estimated Rating: {estimated_rating}\")\n",
        "\n",
        "rmse_accuracy = 100 - (rmse * 100)\n",
        "mae_accuracy = 100 - (mae * 100)\n",
        "\n",
        "print(f'RMSE Accuracy: {rmse_accuracy:.2f}%')\n",
        "print(f'MAE Accuracy: {mae_accuracy:.2f}%')\n",
        "\n",
        "\n"
      ],
      "metadata": {
        "colab": {
          "base_uri": "https://localhost:8080/"
        },
        "id": "Bkj2dTM8vXNA",
        "outputId": "64fcd6a1-8292-4ec8-89e3-1e66475a608d"
      },
      "execution_count": 25,
      "outputs": [
        {
          "output_type": "stream",
          "name": "stdout",
          "text": [
            "RMSE: 0.2592\n",
            "MAE:  0.0595\n",
            "RMSE: 0.2591833929848379\n",
            "MAE: 0.05945325520639159\n",
            "Collaborative Filtering Recommendations for User 520088904:\n",
            "Product Name: camera.video, Estimated Rating: 1.164597573567307\n",
            "Product Name: tools.soldering, Estimated Rating: 1.13445610539908\n",
            "Product Name: personal.scales, Estimated Rating: 1.131686453839708\n",
            "Product Name: accessories.anti_freeze, Estimated Rating: 1.1160004646424448\n",
            "Product Name: kitchen.steam_cooker, Estimated Rating: 1.115428575796529\n",
            "RMSE Accuracy: 74.08%\n",
            "MAE Accuracy: 94.05%\n"
          ]
        }
      ]
    },
    {
      "cell_type": "code",
      "source": [
        "from surprise import dump\n",
        "import os\n",
        "\n",
        "# Specify the directory and file name for saving the model\n",
        "model_dir = 'models'\n",
        "if not os.path.exists(model_dir):\n",
        "    os.makedirs(model_dir)\n",
        "\n",
        "svd_model_file = os.path.join(model_dir, 'svd_model.pickle')\n",
        "\n",
        "# Save the SVD model\n",
        "dump.dump(svd_model_file, algo=model)\n",
        "print(f\"SVD model saved to {svd_model_file}\")\n"
      ],
      "metadata": {
        "id": "OzwhokJN9rUq",
        "colab": {
          "base_uri": "https://localhost:8080/"
        },
        "outputId": "1f0c076d-2ffc-4013-9a8c-6e289ce95f8d"
      },
      "execution_count": 26,
      "outputs": [
        {
          "output_type": "stream",
          "name": "stdout",
          "text": [
            "SVD model saved to models/svd_model.pickle\n"
          ]
        }
      ]
    },
    {
      "cell_type": "code",
      "source": [
        "from surprise import Reader, Dataset, NMF, accuracy\n",
        "from surprise.model_selection import train_test_split\n",
        "\n",
        "event_type_mapping = {\n",
        "    'view': 1,\n",
        "    'cart': 2,\n",
        "    'purchase': 3\n",
        "}\n",
        "\n",
        "df['event_type_rating'] = df['event_type'].map(event_type_mapping)\n",
        "\n",
        "content_columns = ['user_id', 'product_name', 'event_type_rating', 'brand', 'price', 'category', 'age', 'gender', 'location']\n",
        "\n",
        "reader = Reader(rating_scale=(1, 3))\n",
        "\n",
        "def create_custom_dataset(data, reader, columns):\n",
        "    custom_data = []\n",
        "    for _, row in data.iterrows():\n",
        "        custom_data.append((row[columns[0]], row[columns[1]], row[columns[2]]))\n",
        "    custom_dataset = Dataset.load_from_df(pd.DataFrame(custom_data, columns=['user', 'item', 'rating']), reader)\n",
        "    return custom_dataset\n",
        "\n",
        "data = create_custom_dataset(df, reader, content_columns)\n",
        "\n",
        "trainset, testset = train_test_split(data, test_size=0.2, random_state=42)\n",
        "\n",
        "content_model = NMF()\n",
        "\n",
        "content_model.fit(trainset)\n",
        "\n",
        "content_predictions = content_model.test(testset)\n",
        "\n",
        "content_rmse = accuracy.rmse(content_predictions)\n",
        "content_mae = accuracy.mae(content_predictions)\n",
        "\n",
        "print(f'Content-Based RMSE: {content_rmse:.4f}')\n",
        "print(f'Content-Based MAE: {content_mae:.4f}')\n",
        "\n",
        "def content_filtering_recommendation(user_id, num_recommendations=5):\n",
        "    all_product_names = df['product_name'].unique()\n",
        "    interacted_product_names = df[(df['user_id'] == user_id) & (df['event_type'] == 'purchase')]['product_name'].values\n",
        "    candidate_product_names = [product_name for product_name in all_product_names if product_name not in interacted_product_names]\n",
        "    user_ratings = [(user_id, product_name, content_model.predict(user_id, product_name).est) for product_name in candidate_product_names]\n",
        "    user_ratings.sort(key=lambda x: x[2], reverse=True)\n",
        "    top_n_recommendations = user_ratings[:num_recommendations]\n",
        "    return top_n_recommendations\n",
        "\n",
        "user_id_to_recommend = 520088904\n",
        "content_recommendations = content_filtering_recommendation(user_id_to_recommend)\n",
        "\n",
        "print(f\"Content-Based Recommendations for User {user_id_to_recommend}:\")\n",
        "for _, product_name, estimated_rating in content_recommendations:\n",
        "    print(f\"Product Name: {product_name}, Estimated Rating: {estimated_rating:.4f}\")\n",
        "\n",
        "content_rmse_accuracy = 100 - (content_rmse * 100)\n",
        "content_mae_accuracy = 100 - (content_mae * 100)\n",
        "\n",
        "print(f'Content-Based RMSE Accuracy: {content_rmse_accuracy:.2f}%')\n",
        "print(f'Content-Based MAE Accuracy: {content_mae_accuracy:.2f}%')\n"
      ],
      "metadata": {
        "colab": {
          "base_uri": "https://localhost:8080/"
        },
        "id": "OVEwdjlty0jv",
        "outputId": "5b247a3e-87d5-4997-9699-42a6f5aec11a"
      },
      "execution_count": 27,
      "outputs": [
        {
          "output_type": "stream",
          "name": "stdout",
          "text": [
            "RMSE: 0.2817\n",
            "MAE:  0.0667\n",
            "Content-Based RMSE: 0.2817\n",
            "Content-Based MAE: 0.0667\n",
            "Content-Based Recommendations for User 520088904:\n",
            "Product Name: smartphone, Estimated Rating: 1.0000\n",
            "Product Name: sewing_machine, Estimated Rating: 1.0000\n",
            "Product Name: nan, Estimated Rating: 1.0000\n",
            "Product Name: kitchen.washer, Estimated Rating: 1.0000\n",
            "Product Name: notebook, Estimated Rating: 1.0000\n",
            "Content-Based RMSE Accuracy: 71.83%\n",
            "Content-Based MAE Accuracy: 93.33%\n"
          ]
        }
      ]
    },
    {
      "cell_type": "code",
      "source": [
        "nmf_model_file = os.path.join(model_dir, 'nmf_model.pickle')\n",
        "\n",
        "# Save the NMF model\n",
        "dump.dump(nmf_model_file, algo=content_model)\n",
        "print(f\"NMF model saved to {nmf_model_file}\")\n"
      ],
      "metadata": {
        "id": "nXavcCU4MPtC",
        "outputId": "0f932d87-d8e8-4683-da31-7f66951ff94a",
        "colab": {
          "base_uri": "https://localhost:8080/"
        }
      },
      "execution_count": 28,
      "outputs": [
        {
          "output_type": "stream",
          "name": "stdout",
          "text": [
            "NMF model saved to models/nmf_model.pickle\n"
          ]
        }
      ]
    },
    {
      "cell_type": "code",
      "source": [
        "# Combine and prioritize recommendations (example: merge and sort)\n",
        "def hybrid_recommendation(user_id, num_recommendations=5):\n",
        "    collaborative_recommendations = collaborative_filtering_recommendation(user_id, num_recommendations)\n",
        "    content_recommendations = content_filtering_recommendation(user_id, num_recommendations)\n",
        "\n",
        "    hybrid_recommendations = sorted(collaborative_recommendations + content_recommendations, key=lambda x: x[2], reverse=True)\n",
        "\n",
        "    return hybrid_recommendations\n",
        "\n",
        "user_id_to_recommend = 520088904\n",
        "recommendations = hybrid_recommendation(user_id_to_recommend)\n",
        "\n",
        "print(f\"Hybrid Recommendations for User {user_id_to_recommend}:\")\n",
        "for _, product_name, estimated_rating in recommendations:\n",
        "    print(f\"Product Name: {product_name}, Estimated Rating: {estimated_rating:.4f}\")\n",
        "\n",
        "hybrid_rmse = accuracy.rmse(predictions, verbose=False)\n",
        "hybrid_mae = accuracy.mae(predictions, verbose=False)\n",
        "\n",
        "hybrid_rmse_accuracy = 100 - (hybrid_rmse * 100)\n",
        "hybrid_mae_accuracy = 100 - (hybrid_mae * 100)\n",
        "\n",
        "print(f'Hybrid RMSE Accuracy: {hybrid_rmse_accuracy:.2f}%')\n",
        "print(f'Hybrid MAE Accuracy: {hybrid_mae_accuracy:.2f}%')"
      ],
      "metadata": {
        "colab": {
          "base_uri": "https://localhost:8080/"
        },
        "id": "5EBnBZS5Gl2n",
        "outputId": "56d49067-8e05-4ea8-cfe8-9511bbf067b0"
      },
      "execution_count": 29,
      "outputs": [
        {
          "output_type": "stream",
          "name": "stdout",
          "text": [
            "Hybrid Recommendations for User 520088904:\n",
            "Product Name: camera.video, Estimated Rating: 1.1646\n",
            "Product Name: tools.soldering, Estimated Rating: 1.1345\n",
            "Product Name: personal.scales, Estimated Rating: 1.1317\n",
            "Product Name: accessories.anti_freeze, Estimated Rating: 1.1160\n",
            "Product Name: kitchen.steam_cooker, Estimated Rating: 1.1154\n",
            "Product Name: smartphone, Estimated Rating: 1.0000\n",
            "Product Name: sewing_machine, Estimated Rating: 1.0000\n",
            "Product Name: nan, Estimated Rating: 1.0000\n",
            "Product Name: kitchen.washer, Estimated Rating: 1.0000\n",
            "Product Name: notebook, Estimated Rating: 1.0000\n",
            "Hybrid RMSE Accuracy: 74.08%\n",
            "Hybrid MAE Accuracy: 94.05%\n"
          ]
        }
      ]
    },
    {
      "cell_type": "code",
      "source": [
        "import matplotlib.pyplot as plt\n",
        "\n",
        "models = ['Collaborative Filtering', 'Content-Based Filtering', 'Hybrid Model']\n",
        "rmse_values = [rmse_accuracy, content_rmse_accuracy, hybrid_rmse_accuracy]\n",
        "mae_values = [mae_accuracy, content_mae_accuracy, hybrid_mae_accuracy]\n",
        "\n",
        "rmse_values_percentage = [value * 100 for value in rmse_values]\n",
        "mae_values_percentage = [value * 100 for value in mae_values]\n",
        "\n",
        "# Create bar plots for RMSE and MAE in percentage\n",
        "plt.figure(figsize=(10, 5))\n",
        "bar_width = 0.35\n",
        "index = range(len(models))\n",
        "plt.bar(index, rmse_values_percentage, bar_width, color='b', alpha=0.6, label='RMSE')\n",
        "plt.bar([i + bar_width for i in index], mae_values_percentage, bar_width, color='g', alpha=0.6, label='MAE')\n",
        "plt.xlabel('Models')\n",
        "plt.ylabel('Error (%)')\n",
        "plt.title('RMSE and MAE in Percentage for Different Models')\n",
        "plt.xticks([i + bar_width / 2 for i in index], models)\n",
        "plt.legend()\n",
        "plt.show()"
      ],
      "metadata": {
        "colab": {
          "base_uri": "https://localhost:8080/",
          "height": 487
        },
        "id": "wsBIbqbE5hSx",
        "outputId": "6e19e4a0-8afd-4b1b-8992-1837f4a2a8d5"
      },
      "execution_count": 30,
      "outputs": [
        {
          "output_type": "display_data",
          "data": {
            "text/plain": [
              "<Figure size 1000x500 with 1 Axes>"
            ],
            "image/png": "[encoded data removed]"
          },
          "metadata": {}
        }
      ]
    },
    {
      "cell_type": "markdown",
      "source": [
        "#solve cold start problem"
      ],
      "metadata": {
        "id": "UX1ioz6m3Gmu"
      }
    },
    {
      "cell_type": "code",
      "source": [
        "# Define a function to provide hybrid recommendations for users, considering existing, new users, and new items\n",
        "def hybrid_recommendation(user_id, num_recommendations=5):\n",
        "    if user_id in user_data['user_id'].unique():\n",
        "        collaborative_recommendations = collaborative_filtering_recommendation(user_id, num_recommendations)\n",
        "        return collaborative_recommendations\n",
        "\n",
        "    # Check if the user is a new user with demographic data\n",
        "    if user_id in new_users['user_id'].unique():\n",
        "        new_user_profile = new_users[new_users['user_id'] == user_id].iloc[0]\n",
        "        new_user_recommendations = recommend_for_new_user(new_user_profile['age'], new_user_profile['gender'], new_user_profile['location'], num_recommendations)\n",
        "        return new_user_recommendations\n",
        "\n",
        "    # New item: Use content-based filtering based on item characteristics\n",
        "    new_item_profile = new_items[new_items['product_name'] == user_id].iloc[0]\n",
        "    new_item_recommendations = recommend_for_new_item(new_item_profile['brand'], new_item_profile['category'], new_item_profile['price'], num_recommendations)\n",
        "    return new_item_recommendations\n",
        "\n",
        "user_id_to_recommend = 520088904\n",
        "recommendations = hybrid_recommendation(user_id_to_recommend)\n",
        "\n",
        "print(f\"Hybrid Recommendations for User {user_id_to_recommend}:\")\n",
        "print(recommendations)\n"
      ],
      "metadata": {
        "colab": {
          "base_uri": "https://localhost:8080/"
        },
        "id": "-5yhF5JxwOlu",
        "outputId": "05e5db93-6893-4640-ba12-47f7726a2c22"
      },
      "execution_count": 31,
      "outputs": [
        {
          "output_type": "stream",
          "name": "stdout",
          "text": [
            "Hybrid Recommendations for User 520088904:\n",
            "[(520088904, 'camera.video', 1.164597573567307), (520088904, 'tools.soldering', 1.13445610539908), (520088904, 'personal.scales', 1.131686453839708), (520088904, 'accessories.anti_freeze', 1.1160004646424448), (520088904, 'kitchen.steam_cooker', 1.115428575796529)]\n"
          ]
        }
      ]
    }
  ]
}