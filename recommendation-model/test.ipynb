{
  "nbformat": 4,
  "nbformat_minor": 0,
  "metadata": {
    "colab": {
      "provenance": []
    },
    "kernelspec": {
      "name": "python3",
      "display_name": "Python 3"
    },
    "language_info": {
      "name": "python"
    }
  },
  "cells": [
    {
      "cell_type": "code",
      "source": [
        "!pip install lightfm"
      ],
      "metadata": {
        "colab": {
          "base_uri": "https://localhost:8080/"
        },
        "id": "qR5FKWsJdGJk",
        "outputId": "a063c763-c83c-42ce-b597-a65bda010c83"
      },
      "execution_count": 12,
      "outputs": [
        {
          "output_type": "stream",
          "name": "stdout",
          "text": [
            "Requirement already satisfied: lightfm in /usr/local/lib/python3.10/dist-packages (1.17)\n",
            "Requirement already satisfied: numpy in /usr/local/lib/python3.10/dist-packages (from lightfm) (1.25.2)\n",
            "Requirement already satisfied: scipy>=0.17.0 in /usr/local/lib/python3.10/dist-packages (from lightfm) (1.11.4)\n",
            "Requirement already satisfied: requests in /usr/local/lib/python3.10/dist-packages (from lightfm) (2.31.0)\n",
            "Requirement already satisfied: scikit-learn in /usr/local/lib/python3.10/dist-packages (from lightfm) (1.2.2)\n",
            "Requirement already satisfied: charset-normalizer<4,>=2 in /usr/local/lib/python3.10/dist-packages (from requests->lightfm) (3.3.2)\n",
            "Requirement already satisfied: idna<4,>=2.5 in /usr/local/lib/python3.10/dist-packages (from requests->lightfm) (3.7)\n",
            "Requirement already satisfied: urllib3<3,>=1.21.1 in /usr/local/lib/python3.10/dist-packages (from requests->lightfm) (2.0.7)\n",
            "Requirement already satisfied: certifi>=2017.4.17 in /usr/local/lib/python3.10/dist-packages (from requests->lightfm) (2024.2.2)\n",
            "Requirement already satisfied: joblib>=1.1.1 in /usr/local/lib/python3.10/dist-packages (from scikit-learn->lightfm) (1.4.2)\n",
            "Requirement already satisfied: threadpoolctl>=2.0.0 in /usr/local/lib/python3.10/dist-packages (from scikit-learn->lightfm) (3.5.0)\n"
          ]
        }
      ]
    },
    {
      "cell_type": "code",
      "source": [
        "import pandas as pd\n",
        "import numpy as np\n",
        "from lightfm import LightFM\n",
        "from lightfm.data import Dataset\n",
        "from lightfm.evaluation import precision_at_k, auc_score, reciprocal_rank\n",
        "from lightfm.cross_validation import random_train_test_split\n",
        "import matplotlib.pyplot as plt\n",
        "import joblib"
      ],
      "metadata": {
        "id": "Qgaw_7KtdAPn"
      },
      "execution_count": 13,
      "outputs": []
    },
    {
      "cell_type": "code",
      "source": [
        "from google.colab import drive\n",
        "drive.mount('/content/drive')"
      ],
      "metadata": {
        "colab": {
          "base_uri": "https://localhost:8080/"
        },
        "id": "srCwhQtidDbC",
        "outputId": "fdfc6ac8-850d-4d4a-81dc-367497acf6f0"
      },
      "execution_count": 14,
      "outputs": [
        {
          "output_type": "stream",
          "name": "stdout",
          "text": [
            "Drive already mounted at /content/drive; to attempt to forcibly remount, call drive.mount(\"/content/drive\", force_remount=True).\n"
          ]
        }
      ]
    },
    {
      "cell_type": "code",
      "source": [
        "# Load your data\n",
        "users_df = pd.read_csv('/content/drive/MyDrive/recommendation_service_dataset/users.csv')\n",
        "products_df = pd.read_csv('/content/drive/MyDrive/recommendation_service_dataset/products.csv')\n",
        "events_df = pd.read_csv('/content/drive/MyDrive/recommendation_service_dataset/events.csv')\n"
      ],
      "metadata": {
        "id": "wlz9bGL-c99N"
      },
      "execution_count": 15,
      "outputs": []
    },
    {
      "cell_type": "code",
      "source": [
        "# Preprocessing\n",
        "event_type_weights = {\n",
        "    'purchase': 3.0,   # High weight as it directly indicates a preference.\n",
        "    'cart': 2.5,       # Adding to cart is a strong buying signal.\n",
        "    'product': 2.0,    # Viewing a product shows interest.\n",
        "    'department': 1.0, # Browsing a department shows mild interest.\n",
        "    'cancel': 0.5,     # Cancelling might indicate disinterest.\n",
        "    'home': 0.5        # Visiting the home page is generic, low informational value.\n",
        "}\n",
        "\n",
        "events_df['event_weight'] = events_df['event_type'].map(event_type_weights)\n",
        "\n",
        "events_df['product_id'] = events_df.apply(lambda row: int(row['uri'].split('/')[-1]) if '/product/' in row['uri'] else np.nan, axis=1)\n",
        "\n",
        "events_df = events_df.dropna(subset=['product_id', 'user_id'])\n",
        "\n",
        "events_df.loc[:, 'user_id'] = events_df['user_id'].astype(int)\n",
        "events_df.loc[:, 'product_id'] = events_df['product_id'].astype(int)\n",
        "\n",
        "filtered_events = events_df[events_df['user_id'].isin(users_df['id']) & events_df['product_id'].isin(products_df['id'])]\n",
        "\n",
        "# Add age group feature to users\n",
        "users_df['age_group'] = pd.cut(users_df['age'], bins=[0, 18, 25, 35, 45, 55, 65, 100], labels=['0-18', '19-25', '26-35', '36-45', '46-55', '56-65', '65+'])\n",
        "\n",
        "\n",
        "print(filtered_events.head())\n",
        "print(users_df.head())\n"
      ],
      "metadata": {
        "colab": {
          "base_uri": "https://localhost:8080/"
        },
        "id": "88zRPogac7bm",
        "outputId": "1fed0d53-101c-4861-9682-398e26734d70"
      },
      "execution_count": 16,
      "outputs": [
        {
          "output_type": "stream",
          "name": "stdout",
          "text": [
            "    id  user_id  sequence_number                            session_id  \\\n",
            "2    3        1                3  2f64d862-461c-4aae-b6dc-01e0d196f798   \n",
            "6    7        1                2  8a2213d3-4d80-4623-9310-5985e13cb40f   \n",
            "9   10        1                5  8a2213d3-4d80-4623-9310-5985e13cb40f   \n",
            "13  14        1                2  f3f101ae-94fa-4b90-af09-1ac93b882863   \n",
            "16  17        1                5  f3f101ae-94fa-4b90-af09-1ac93b882863   \n",
            "\n",
            "                 created_at      ip_address   city                state  \\\n",
            "2   2023-04-29 06:18:09 UTC   134.4.186.186  Wesel  Nordrhein-Westfalen   \n",
            "6   2021-08-09 06:23:40 UTC  139.232.60.144  Wesel  Nordrhein-Westfalen   \n",
            "9   2021-08-09 06:29:08 UTC  139.232.60.144  Wesel  Nordrhein-Westfalen   \n",
            "13  2021-08-09 07:35:19 UTC    71.0.229.176  Wesel  Nordrhein-Westfalen   \n",
            "16  2021-08-09 07:39:56 UTC    71.0.229.176  Wesel  Nordrhein-Westfalen   \n",
            "\n",
            "   postal_code  browser traffic_source             uri event_type  \\\n",
            "2        46487   Chrome       Facebook  /product/28651    product   \n",
            "6        46487  Firefox       Facebook  /product/16545    product   \n",
            "9        46487  Firefox       Facebook  /product/16545    product   \n",
            "13       46487       IE        Adwords  /product/22740    product   \n",
            "16       46487       IE        Adwords  /product/22740    product   \n",
            "\n",
            "    event_weight  product_id  \n",
            "2            2.0     28651.0  \n",
            "6            2.0     16545.0  \n",
            "9            2.0     16545.0  \n",
            "13           2.0     22740.0  \n",
            "16           2.0     22740.0  \n",
            "   id first_name last_name                      email  age gender  \\\n",
            "0   1      Tracy     Myers     tracymyers@example.net   67      M   \n",
            "1   2    Jessica    Garcia  jessicagarcia@example.com   21      F   \n",
            "2   3  Stephanie      Hart  stephaniehart@example.com   45      F   \n",
            "3   4       Chad      Tate       chadtate@example.com   32      M   \n",
            "4   5      Holly    Foster    hollyfoster@example.org   67      F   \n",
            "\n",
            "                 state                  street_address postal_code       city  \\\n",
            "0  Nordrhein-Westfalen  30998 Laurie Mountain Apt. 697       46487      Wesel   \n",
            "1             Zhejiang              420 Andrew Streets      325025  Zhongshan   \n",
            "2              Beijing     4033 Ryan Meadows Suite 893      100070   Shanghai   \n",
            "3              Jiangsu  68050 Tanya Stravenue Apt. 115      210042   Shanghai   \n",
            "4             Flanders     1508 Hicks Forges Suite 697        8200     Bruges   \n",
            "\n",
            "   country   latitude   longitude traffic_source               created_at  \\\n",
            "0  Germany  51.673491    6.541243        Organic  2020-06-16 08:15:00 UTC   \n",
            "1    China  27.857829  120.794752       Facebook  2022-02-25 08:02:00 UTC   \n",
            "2    China  39.824874  116.313130         Search  2020-07-20 12:11:00 UTC   \n",
            "3    China  32.082353  118.836374          Email  2020-03-24 11:35:00 UTC   \n",
            "4  Belgium  51.186866    3.184265       Facebook  2019-05-09 11:14:00 UTC   \n",
            "\n",
            "  age_group  \n",
            "0       65+  \n",
            "1     19-25  \n",
            "2     36-45  \n",
            "3     26-35  \n",
            "4       65+  \n"
          ]
        }
      ]
    },
    {
      "cell_type": "code",
      "source": [
        "from lightfm.data import Dataset\n",
        "\n",
        "# Initialize the dataset\n",
        "dataset = Dataset()\n",
        "\n",
        "# Fit the dataset with the user IDs, item IDs, and declare the features to use\n",
        "dataset.fit(\n",
        "    users=(x for x in users_df['id']),\n",
        "    items=(x for x in products_df['id']),\n",
        "    user_features=(f\"{row['gender']}_{row['age_group']}_{row['state']}\" for index, row in users_df.iterrows()),\n",
        "    item_features=(f\"{row['category']}_{row['brand']}_{row['department']}\" for index, row in products_df.iterrows())\n",
        ")\n",
        "\n",
        "(interactions_matrix, weights_matrix) = dataset.build_interactions(\n",
        "    (row['user_id'], row['product_id'], row['event_weight'])\n",
        "    for index, row in events_df.iterrows()\n",
        ")\n",
        "\n",
        "user_features = dataset.build_user_features(\n",
        "    (row['id'], [f\"{row['gender']}_{row['age_group']}_{row['state']}\"])\n",
        "    for index, row in users_df[users_df['id'].isin(filtered_events['user_id'])].iterrows()\n",
        ")\n",
        "\n",
        "item_features = dataset.build_item_features(\n",
        "    (row['id'], [f\"{row['category']}_{row['brand']}_{row['department']}\"])\n",
        "    for index, row in products_df.iterrows()\n",
        ")\n"
      ],
      "metadata": {
        "id": "diw5y_zWc4qB"
      },
      "execution_count": 17,
      "outputs": []
    },
    {
      "cell_type": "code",
      "execution_count": 22,
      "metadata": {
        "colab": {
          "base_uri": "https://localhost:8080/"
        },
        "id": "T4s0tX_8OnKl",
        "outputId": "0e1ba8d8-4772-4eb1-8dd6-c3493601f7fa"
      },
      "outputs": [
        {
          "output_type": "stream",
          "name": "stdout",
          "text": [
            "Predictions: [-0.65928894 -0.640985   -0.6363938  ... -0.5210588  -0.53836757\n",
            " -0.5682372 ]\n",
            "Top Recommended Items:\n",
            "          id                                               name\n",
            "1793   20856  Southpole Men's Stretch Denim With Crinkle And...\n",
            "2311   18788         Mundo Unico Men's Classic Jock Strap Thong\n",
            "3389   23977                            Men's Cashmere Pea Coat\n",
            "5191   28768                 Ray-Ban 0RB3491 Aviator Sunglasses\n",
            "7696   26507  Majestic International Men's Weather Wise Flan...\n",
            "7739   27200  Majestic International Men's Plaid Tiding Long...\n",
            "10242  24404  Calvin Klein Sportswear Men's Light Weight Mot...\n",
            "11135  26818     Croft & BarrowÂ® Men's Camouflage Lounge Pants\n",
            "12232  24134                  Levi's Men's Leather Racer Jacket\n",
            "13649  22971           Tommy Bahama East Bank Cargo Golf Shorts\n",
            "13651  23069    Tommy Bahama Key Grip Cargo Bermuda Golf Shorts\n",
            "14046  21626                    Greystone Tall Relaxed Fit Jean\n",
            "17831  17385  Alpinestar Men's Full Grain Pullover Fleece Ho...\n",
            "18719  20198          Port Authority J753 Classic Poplin Jacket\n",
            "20570  23131     Ed Garments Men's Flat Front Chino Short. 2450\n",
            "20573  23416  Ed Garments Men's Flat Front Utility Cargo Sho...\n",
            "24279  22813             Armani Exchange Papertouch Cargo Short\n",
            "24315  24158  Charles River Apparel Men's Windproof Hooded R...\n",
            "27143  16620  Ian Leino Design - Doctor Who 'Who's Who' Shor...\n",
            "28251  22312             Royal Bones Red Plaid Zip Skinny Pants\n"
          ]
        }
      ],
      "source": [
        "from scipy.sparse import csr_matrix\n",
        "\n",
        "# Updated user features for a female user\n",
        "features_dict = {\n",
        "    'gender_male': 1,  # Assuming the model was trained with this feature\n",
        "    'age_25': 1,\n",
        "    'location_Daegu': 1,\n",
        "    'brand_Perry_Ellis': 1\n",
        "}\n",
        "\n",
        "# Assuming the total number of features is known and indexed, update accordingly\n",
        "num_features = 100  # This should match your model's feature setup\n",
        "feature_indices = {\n",
        "    'gender_male': 0,  # Update the index as per your model's feature indexing\n",
        "    'age_25': 1,\n",
        "    'location_Daegu': 2,\n",
        "    'brand_Perry_Ellis': 3\n",
        "}\n",
        "\n",
        "# Create the feature vector based on the defined features\n",
        "feature_vector = [0] * num_features\n",
        "for feature, index in feature_indices.items():\n",
        "    if feature in features_dict:\n",
        "        feature_vector[index] = features_dict[feature]\n",
        "\n",
        "# Convert to CSR matrix\n",
        "user_features_csr = csr_matrix(feature_vector)\n",
        "\n",
        "# Load the model\n",
        "model = joblib.load('recommendation_hybrid_model.pkl')\n",
        "\n",
        "# Predicting with a manually created CSR matrix\n",
        "num_items = dataset.interactions_shape()[1]  # Number of items\n",
        "new_user_predictions = model.predict(0, np.arange(num_items), user_features=user_features_csr, item_features=item_features)\n",
        "\n",
        "# Output the predictions\n",
        "print(\"Predictions:\", new_user_predictions)\n",
        "\n",
        "# Predicting with a manually created CSR matrix\n",
        "num_items = dataset.interactions_shape()[1]  # Number of items\n",
        "new_user_predictions = model.predict(0, np.arange(num_items), user_features=user_features_csr, item_features=item_features)\n",
        "\n",
        "# Extract the indices of the top items based on scores\n",
        "top_items_indices = np.argsort(-new_user_predictions)[:20]\n",
        "\n",
        "# Get the IDs of the top items from the indices\n",
        "top_item_ids = products_df.iloc[top_items_indices]['id']\n",
        "\n",
        "# Fetch details for these top items from your products DataFrame\n",
        "top_items_details = products_df[products_df['id'].isin(top_item_ids)][['id', 'name']]\n",
        "\n",
        "# Output the top item details\n",
        "print(\"Top Recommended Items:\")\n",
        "print(top_items_details)\n"
      ]
    }
  ]
}