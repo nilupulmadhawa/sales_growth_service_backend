{
  "cells": [
    {
      "cell_type": "code",
      "execution_count": 1,
      "metadata": {
        "colab": {
          "base_uri": "https://localhost:8080/"
        },
        "id": "f2BEiRazQUXZ",
        "outputId": "7e801eb4-4fb4-4a5f-a7dd-1412784f134e"
      },
      "outputs": [
        {
          "name": "stdout",
          "output_type": "stream",
          "text": [
            "Mounted at /content/drive\n"
          ]
        }
      ],
      "source": [
        "from google.colab import drive\n",
        "drive.mount('/content/drive')"
      ]
    },
    {
      "cell_type": "code",
      "execution_count": 2,
      "metadata": {
        "colab": {
          "base_uri": "https://localhost:8080/"
        },
        "id": "W7R_Qf2zQhwq",
        "outputId": "73e7a547-5982-45a5-97ea-ade0448d7fde"
      },
      "outputs": [
        {
          "name": "stdout",
          "output_type": "stream",
          "text": [
            "Collecting lightfm\n",
            "  Downloading lightfm-1.17.tar.gz (316 kB)\n",
            "\u001b[2K     \u001b[90m━━━━━━━━━━━━━━━━━━━━━━━━━━━━━━━━━━━━━━━━\u001b[0m \u001b[32m316.4/316.4 kB\u001b[0m \u001b[31m2.9 MB/s\u001b[0m eta \u001b[36m0:00:00\u001b[0m\n",
            "\u001b[?25h  Preparing metadata (setup.py) ... \u001b[?25l\u001b[?25hdone\n",
            "Requirement already satisfied: numpy in /usr/local/lib/python3.10/dist-packages (from lightfm) (1.25.2)\n",
            "Requirement already satisfied: scipy>=0.17.0 in /usr/local/lib/python3.10/dist-packages (from lightfm) (1.11.4)\n",
            "Requirement already satisfied: requests in /usr/local/lib/python3.10/dist-packages (from lightfm) (2.31.0)\n",
            "Requirement already satisfied: scikit-learn in /usr/local/lib/python3.10/dist-packages (from lightfm) (1.2.2)\n",
            "Requirement already satisfied: charset-normalizer<4,>=2 in /usr/local/lib/python3.10/dist-packages (from requests->lightfm) (3.3.2)\n",
            "Requirement already satisfied: idna<4,>=2.5 in /usr/local/lib/python3.10/dist-packages (from requests->lightfm) (3.7)\n",
            "Requirement already satisfied: urllib3<3,>=1.21.1 in /usr/local/lib/python3.10/dist-packages (from requests->lightfm) (2.0.7)\n",
            "Requirement already satisfied: certifi>=2017.4.17 in /usr/local/lib/python3.10/dist-packages (from requests->lightfm) (2024.2.2)\n",
            "Requirement already satisfied: joblib>=1.1.1 in /usr/local/lib/python3.10/dist-packages (from scikit-learn->lightfm) (1.4.2)\n",
            "Requirement already satisfied: threadpoolctl>=2.0.0 in /usr/local/lib/python3.10/dist-packages (from scikit-learn->lightfm) (3.5.0)\n",
            "Building wheels for collected packages: lightfm\n",
            "  Building wheel for lightfm (setup.py) ... \u001b[?25l\u001b[?25hdone\n",
            "  Created wheel for lightfm: filename=lightfm-1.17-cp310-cp310-linux_x86_64.whl size=808330 sha256=5ba89558f1b3da789217f10ddc957434510cf312289bc269d144bf38bf0ce30e\n",
            "  Stored in directory: /root/.cache/pip/wheels/4f/9b/7e/0b256f2168511d8fa4dae4fae0200fdbd729eb424a912ad636\n",
            "Successfully built lightfm\n",
            "Installing collected packages: lightfm\n",
            "Successfully installed lightfm-1.17\n"
          ]
        }
      ],
      "source": [
        "!pip install lightfm"
      ]
    },
    {
      "cell_type": "code",
      "execution_count": 3,
      "metadata": {
        "id": "JCFjIpi6Qkrt"
      },
      "outputs": [],
      "source": [
        "import pandas as pd\n",
        "import numpy as np\n",
        "from lightfm import LightFM\n",
        "from lightfm.data import Dataset\n",
        "from lightfm.evaluation import precision_at_k, auc_score, reciprocal_rank\n",
        "from lightfm.cross_validation import random_train_test_split\n",
        "import matplotlib.pyplot as plt\n",
        "import joblib"
      ]
    },
    {
      "cell_type": "code",
      "execution_count": 4,
      "metadata": {
        "id": "lr7kfJ09QlQK"
      },
      "outputs": [],
      "source": [
        "# Load your data\n",
        "users_df = pd.read_csv('/content/drive/MyDrive/recommendation_service_dataset/users.csv')\n",
        "products_df = pd.read_csv('/content/drive/MyDrive/recommendation_service_dataset/products.csv')\n",
        "events_df = pd.read_csv('/content/drive/MyDrive/recommendation_service_dataset/events.csv')\n"
      ]
    },
    {
      "cell_type": "code",
      "execution_count": 5,
      "metadata": {
        "colab": {
          "base_uri": "https://localhost:8080/"
        },
        "id": "cPZhr84tQoyf",
        "outputId": "298ff7e6-e654-4846-82bb-ef860f21c291"
      },
      "outputs": [
        {
          "name": "stdout",
          "output_type": "stream",
          "text": [
            "    id  user_id  sequence_number                            session_id  \\\n",
            "2    3        1                3  2f64d862-461c-4aae-b6dc-01e0d196f798   \n",
            "6    7        1                2  8a2213d3-4d80-4623-9310-5985e13cb40f   \n",
            "9   10        1                5  8a2213d3-4d80-4623-9310-5985e13cb40f   \n",
            "13  14        1                2  f3f101ae-94fa-4b90-af09-1ac93b882863   \n",
            "16  17        1                5  f3f101ae-94fa-4b90-af09-1ac93b882863   \n",
            "\n",
            "                 created_at      ip_address   city                state  \\\n",
            "2   2023-04-29 06:18:09 UTC   134.4.186.186  Wesel  Nordrhein-Westfalen   \n",
            "6   2021-08-09 06:23:40 UTC  139.232.60.144  Wesel  Nordrhein-Westfalen   \n",
            "9   2021-08-09 06:29:08 UTC  139.232.60.144  Wesel  Nordrhein-Westfalen   \n",
            "13  2021-08-09 07:35:19 UTC    71.0.229.176  Wesel  Nordrhein-Westfalen   \n",
            "16  2021-08-09 07:39:56 UTC    71.0.229.176  Wesel  Nordrhein-Westfalen   \n",
            "\n",
            "   postal_code  browser traffic_source             uri event_type  \\\n",
            "2        46487   Chrome       Facebook  /product/28651    product   \n",
            "6        46487  Firefox       Facebook  /product/16545    product   \n",
            "9        46487  Firefox       Facebook  /product/16545    product   \n",
            "13       46487       IE        Adwords  /product/22740    product   \n",
            "16       46487       IE        Adwords  /product/22740    product   \n",
            "\n",
            "    event_weight  product_id  \n",
            "2            2.0     28651.0  \n",
            "6            2.0     16545.0  \n",
            "9            2.0     16545.0  \n",
            "13           2.0     22740.0  \n",
            "16           2.0     22740.0  \n",
            "   id first_name last_name                      email  age gender  \\\n",
            "0   1      Tracy     Myers     tracymyers@example.net   67      M   \n",
            "1   2    Jessica    Garcia  jessicagarcia@example.com   21      F   \n",
            "2   3  Stephanie      Hart  stephaniehart@example.com   45      F   \n",
            "3   4       Chad      Tate       chadtate@example.com   32      M   \n",
            "4   5      Holly    Foster    hollyfoster@example.org   67      F   \n",
            "\n",
            "                 state                  street_address postal_code       city  \\\n",
            "0  Nordrhein-Westfalen  30998 Laurie Mountain Apt. 697       46487      Wesel   \n",
            "1             Zhejiang              420 Andrew Streets      325025  Zhongshan   \n",
            "2              Beijing     4033 Ryan Meadows Suite 893      100070   Shanghai   \n",
            "3              Jiangsu  68050 Tanya Stravenue Apt. 115      210042   Shanghai   \n",
            "4             Flanders     1508 Hicks Forges Suite 697        8200     Bruges   \n",
            "\n",
            "   country   latitude   longitude traffic_source               created_at  \\\n",
            "0  Germany  51.673491    6.541243        Organic  2020-06-16 08:15:00 UTC   \n",
            "1    China  27.857829  120.794752       Facebook  2022-02-25 08:02:00 UTC   \n",
            "2    China  39.824874  116.313130         Search  2020-07-20 12:11:00 UTC   \n",
            "3    China  32.082353  118.836374          Email  2020-03-24 11:35:00 UTC   \n",
            "4  Belgium  51.186866    3.184265       Facebook  2019-05-09 11:14:00 UTC   \n",
            "\n",
            "  age_group  \n",
            "0       65+  \n",
            "1     19-25  \n",
            "2     36-45  \n",
            "3     26-35  \n",
            "4       65+  \n"
          ]
        }
      ],
      "source": [
        "# Preprocessing\n",
        "event_type_weights = {\n",
        "    'purchase': 3.0,   # High weight as it directly indicates a preference.\n",
        "    'cart': 2.5,       # Adding to cart is a strong buying signal.\n",
        "    'product': 2.0,    # Viewing a product shows interest.\n",
        "    'department': 1.0, # Browsing a department shows mild interest.\n",
        "    'cancel': 0.5,     # Cancelling might indicate disinterest.\n",
        "    'home': 0.5        # Visiting the home page is generic, low informational value.\n",
        "}\n",
        "\n",
        "events_df['event_weight'] = events_df['event_type'].map(event_type_weights)\n",
        "\n",
        "events_df['product_id'] = events_df.apply(lambda row: int(row['uri'].split('/')[-1]) if '/product/' in row['uri'] else np.nan, axis=1)\n",
        "\n",
        "events_df = events_df.dropna(subset=['product_id', 'user_id'])\n",
        "\n",
        "events_df.loc[:, 'user_id'] = events_df['user_id'].astype(int)\n",
        "events_df.loc[:, 'product_id'] = events_df['product_id'].astype(int)\n",
        "\n",
        "filtered_events = events_df[events_df['user_id'].isin(users_df['id']) & events_df['product_id'].isin(products_df['id'])]\n",
        "\n",
        "# Add age group feature to users\n",
        "users_df['age_group'] = pd.cut(users_df['age'], bins=[0, 18, 25, 35, 45, 55, 65, 100], labels=['0-18', '19-25', '26-35', '36-45', '46-55', '56-65', '65+'])\n",
        "\n",
        "\n",
        "print(filtered_events.head())\n",
        "print(users_df.head())\n"
      ]
    },
    {
      "cell_type": "code",
      "execution_count": 6,
      "metadata": {
        "id": "0xpqfZzsQsJU"
      },
      "outputs": [],
      "source": [
        "from lightfm.data import Dataset\n",
        "\n",
        "# Initialize the dataset\n",
        "dataset = Dataset()\n",
        "\n",
        "# Fit the dataset with the user IDs, item IDs, and declare the features to use\n",
        "dataset.fit(\n",
        "    users=(x for x in users_df['id']),\n",
        "    items=(x for x in products_df['id']),\n",
        "    user_features=(f\"{row['gender']}_{row['age_group']}_{row['state']}\" for index, row in users_df.iterrows()),\n",
        "    item_features=(f\"{row['category']}_{row['brand']}_{row['department']}\" for index, row in products_df.iterrows())\n",
        ")\n",
        "\n",
        "(interactions_matrix, weights_matrix) = dataset.build_interactions(\n",
        "    (row['user_id'], row['product_id'], row['event_weight'])\n",
        "    for index, row in events_df.iterrows()\n",
        ")\n",
        "\n",
        "user_features = dataset.build_user_features(\n",
        "    (row['id'], [f\"{row['gender']}_{row['age_group']}_{row['state']}\"])\n",
        "    for index, row in users_df[users_df['id'].isin(filtered_events['user_id'])].iterrows()\n",
        ")\n",
        "\n",
        "item_features = dataset.build_item_features(\n",
        "    (row['id'], [f\"{row['category']}_{row['brand']}_{row['department']}\"])\n",
        "    for index, row in products_df.iterrows()\n",
        ")\n"
      ]
    },
    {
      "cell_type": "code",
      "execution_count": 7,
      "metadata": {
        "colab": {
          "base_uri": "https://localhost:8080/",
          "height": 505
        },
        "id": "0T_soS1Fy3RX",
        "outputId": "ccbabca9-2367-40dd-90c3-4046aac2613c"
      },
      "outputs": [
        {
          "data": {
            "image/png": "[encoded data removed]",
            "text/plain": [
              "<Figure size 1400x600 with 2 Axes>"
            ]
          },
          "metadata": {},
          "output_type": "display_data"
        }
      ],
      "source": [
        "import matplotlib.pyplot as plt\n",
        "\n",
        "# Assuming 'filtered_events' is your final events DataFrame after preprocessing\n",
        "# Interactions per User\n",
        "user_interactions = filtered_events.groupby('user_id').size()\n",
        "item_interactions = filtered_events.groupby('product_id').size()\n",
        "\n",
        "plt.figure(figsize=(14, 6))\n",
        "\n",
        "plt.subplot(1, 2, 1)\n",
        "user_interactions.hist(bins=30, edgecolor='black')\n",
        "plt.title('Interactions per User')\n",
        "plt.xlabel('Number of Interactions')\n",
        "plt.ylabel('Number of Users')\n",
        "\n",
        "plt.subplot(1, 2, 2)\n",
        "item_interactions.hist(bins=30, edgecolor='black')\n",
        "plt.title('Interactions per Item')\n",
        "plt.xlabel('Number of Interactions')\n",
        "plt.ylabel('Number of Items')\n",
        "\n",
        "plt.tight_layout()\n",
        "plt.show()\n"
      ]
    },
    {
      "cell_type": "code",
      "execution_count": 8,
      "metadata": {
        "id": "t6vmojAm0OwI"
      },
      "outputs": [],
      "source": [
        "# Split the data into training and testing sets\n",
        "train, test = random_train_test_split(interactions_matrix, test_percentage=0.2, random_state=np.random.RandomState(779))\n",
        "\n",
        "# Initialize the LightFM model with WARP loss function\n",
        "# Adjust these parameters to optimize the gap stability\n",
        "learning_rate = 0.03  # Lower learning rate\n",
        "no_components = 30    # Fewer factors to reduce complexity\n",
        "user_alpha = 1e-4     # Higher regularization\n",
        "item_alpha = 1e-4     # Higher regularization\n",
        "\n",
        "\n",
        "# Initialize the model with adjusted parameters for better performance and regularization\n",
        "model = LightFM(loss='warp', no_components=no_components,\n",
        "                user_alpha=user_alpha, item_alpha=item_alpha,\n",
        "                learning_schedule='adagrad', learning_rate=learning_rate, random_state=1616)"
      ]
    },
    {
      "cell_type": "code",
      "execution_count": 9,
      "metadata": {
        "colab": {
          "base_uri": "https://localhost:8080/"
        },
        "id": "KORbGLVAQvFL",
        "outputId": "28e92de7-f151-46fd-e87a-c9f53e8daec9"
      },
      "outputs": [
        {
          "name": "stdout",
          "output_type": "stream",
          "text": [
            "Epoch: 5 - Train RR: 0.0029, Test RR: 0.0019\n",
            "Epoch: 5 - Train AUC: 0.7922, Test AUC: 0.7780, Gap: 0.0142\n",
            "Epoch: 10 - Train RR: 0.0036, Test RR: 0.0023\n",
            "Epoch: 10 - Train AUC: 0.8043, Test AUC: 0.7858, Gap: 0.0185\n",
            "Epoch: 15 - Train RR: 0.0044, Test RR: 0.0026\n",
            "Epoch: 15 - Train AUC: 0.8139, Test AUC: 0.7912, Gap: 0.0227\n",
            "Epoch: 20 - Train RR: 0.0053, Test RR: 0.0031\n",
            "Epoch: 20 - Train AUC: 0.8233, Test AUC: 0.7966, Gap: 0.0267\n",
            "Epoch: 25 - Train RR: 0.0067, Test RR: 0.0038\n",
            "Epoch: 25 - Train AUC: 0.8328, Test AUC: 0.8018, Gap: 0.0310\n",
            "Epoch: 30 - Train RR: 0.0083, Test RR: 0.0045\n",
            "Epoch: 30 - Train AUC: 0.8430, Test AUC: 0.8072, Gap: 0.0359\n",
            "Epoch: 35 - Train RR: 0.0105, Test RR: 0.0053\n",
            "Epoch: 35 - Train AUC: 0.8532, Test AUC: 0.8126, Gap: 0.0406\n",
            "Epoch: 40 - Train RR: 0.0133, Test RR: 0.0067\n",
            "Epoch: 40 - Train AUC: 0.8635, Test AUC: 0.8181, Gap: 0.0454\n",
            "Epoch: 45 - Train RR: 0.0164, Test RR: 0.0078\n",
            "Epoch: 45 - Train AUC: 0.8737, Test AUC: 0.8234, Gap: 0.0503\n",
            "Early stopping triggered due to gap exceeding 0.05 or no improvement\n"
          ]
        }
      ],
      "source": [
        "# Initialize lists to store the metrics\n",
        "train_auc_list, test_auc_list, gap_list = [], [], []\n",
        "train_rr_list, test_rr_list = [], []\n",
        "\n",
        "num_epochs = 50\n",
        "evaluation_interval = 5\n",
        "best_gap = 0.05\n",
        "patience = 3\n",
        "patience_counter = 0\n",
        "num_thread = 4\n",
        "\n",
        "for epoch in range(num_epochs):\n",
        "    model.fit_partial(train, user_features=user_features, item_features=item_features, epochs=1,\n",
        "                      num_threads=num_thread)\n",
        "\n",
        "    if (epoch + 1) % evaluation_interval == 0:\n",
        "        train_rr = reciprocal_rank(model, train, user_features=user_features, item_features=item_features).mean()\n",
        "        test_rr = reciprocal_rank(model, test, user_features=user_features, item_features=item_features).mean()\n",
        "        train_auc = auc_score(model, train, user_features=user_features, item_features=item_features).mean()\n",
        "        test_auc = auc_score(model, test, user_features=user_features, item_features=item_features).mean()\n",
        "\n",
        "        current_gap = train_auc - test_auc\n",
        "        train_rr_list.append(train_rr)\n",
        "        test_rr_list.append(test_rr)\n",
        "        train_auc_list.append(train_auc)\n",
        "        test_auc_list.append(test_auc)\n",
        "        gap_list.append(current_gap)\n",
        "\n",
        "        print(f'Epoch: {epoch+1} - Train RR: {train_rr:.4f}, Test RR: {test_rr:.4f}')\n",
        "        print(f'Epoch: {epoch+1} - Train AUC: {train_auc:.4f}, Test AUC: {test_auc:.4f}, Gap: {current_gap:.4f}')\n",
        "\n",
        "        # Monitor the gap and apply early stopping if it exceeds the threshold\n",
        "        if current_gap < best_gap:\n",
        "            patience_counter = 0\n",
        "            joblib.dump(model, '/content/best_recommendation_hybrid_model.pkl')  # Save the best model\n",
        "        else:\n",
        "            patience_counter += 1\n",
        "            if patience_counter >= patience or current_gap > 0.05:\n",
        "                print(f\"Early stopping triggered due to gap exceeding {best_gap} or no improvement\")\n",
        "                joblib.dump(model, '/content/recommendation_hybrid_model.pkl')\n",
        "                break"
      ]
    },
    {
      "cell_type": "code",
      "execution_count": 10,
      "metadata": {
        "colab": {
          "base_uri": "https://localhost:8080/"
        },
        "id": "mCZCPFf-0Y3k",
        "outputId": "de159ba5-29a9-4e70-cfd7-4d375f9b7bc2"
      },
      "outputs": [
        {
          "name": "stdout",
          "output_type": "stream",
          "text": [
            "Final evaluation results:\n",
            "Precision: Train 0.0037, Test 0.0016\n",
            "AUC: Train 0.8737, Test 0.8234\n"
          ]
        }
      ],
      "source": [
        "# Final evaluation at the end of training\n",
        "train_precision = precision_at_k(model, train, k=10, user_features=user_features, item_features=item_features).mean()\n",
        "test_precision = precision_at_k(model, test, k=10, user_features=user_features, item_features=item_features).mean()\n",
        "train_auc = auc_score(model, train, user_features=user_features, item_features=item_features).mean()\n",
        "test_auc = auc_score(model, test, user_features=user_features, item_features=item_features).mean()\n",
        "\n",
        "print('Final evaluation results:')\n",
        "print(f'Precision: Train {train_precision:.4f}, Test {test_precision:.4f}')\n",
        "print(f'AUC: Train {train_auc:.4f}, Test {test_auc:.4f}')\n"
      ]
    },
    {
      "cell_type": "code",
      "execution_count": 11,
      "metadata": {
        "colab": {
          "base_uri": "https://localhost:8080/"
        },
        "id": "H-iM1r0uU8r2",
        "outputId": "b9a83784-cb7c-4203-cdff-296983186c7e"
      },
      "outputs": [
        {
          "name": "stdout",
          "output_type": "stream",
          "text": [
            "Recommended product IDs for user 1: [3394, 28257, 25252, 7158, 25899, 20814, 13720, 17643, 10603, 21211]\n"
          ]
        }
      ],
      "source": [
        "# Sample recommendation function\n",
        "def sample_recommendation(model, user_id, user_features, item_features, dataset, num_items=10):\n",
        "    n_users, n_items = dataset.interactions_shape()\n",
        "    user_x = dataset.mapping()[0][user_id]\n",
        "    scores = model.predict(user_x, np.arange(n_items), user_features=user_features, item_features=item_features)\n",
        "    top_items = np.argsort(-scores)[:num_items]\n",
        "\n",
        "    return [dataset.mapping()[2][i] for i in top_items]\n",
        "\n",
        "# Test the recommendation function for a specific user 17033\n",
        "user_id = 1\n",
        "recommended_products = sample_recommendation(model, user_id, user_features, item_features, dataset)\n",
        "print(f'Recommended product IDs for user {user_id}: {recommended_products}')"
      ]
    },
    {
      "cell_type": "code",
      "execution_count": 12,
      "metadata": {
        "colab": {
          "base_uri": "https://localhost:8080/"
        },
        "id": "74mcYVWRu8MK",
        "outputId": "ba9d0087-d576-4ee5-9f27-78362a40ba2b"
      },
      "outputs": [
        {
          "data": {
            "text/plain": [
              "['recommendation_hybrid_model.pkl']"
            ]
          },
          "execution_count": 12,
          "metadata": {},
          "output_type": "execute_result"
        }
      ],
      "source": [
        "joblib.dump(model, 'recommend_model.pkl')"
      ]
    },
    {
      "cell_type": "code",
      "execution_count": 13,
      "metadata": {
        "colab": {
          "base_uri": "https://localhost:8080/",
          "height": 587
        },
        "id": "FdF-e6icetHp",
        "outputId": "e2e9b3f2-59c2-479b-bc69-2d7772528099"
      },
      "outputs": [
        {
          "data": {
            "image/png": "[encoded data removed]",
            "text/plain": [
              "<Figure size 1200x600 with 2 Axes>"
            ]
          },
          "metadata": {},
          "output_type": "display_data"
        }
      ],
      "source": [
        "plt.figure(figsize=(12, 6))\n",
        "plt.subplot(121)\n",
        "plt.plot(train_rr_list, label='Train RR')\n",
        "plt.plot(test_rr_list, label='Test RR')\n",
        "plt.title('Reciprocal Rank over Epochs')\n",
        "plt.xlabel('Epochs')\n",
        "plt.ylabel('Reciprocal Rank')\n",
        "plt.legend()\n",
        "\n",
        "plt.subplot(122)\n",
        "plt.plot(train_auc_list, label='Train AUC')\n",
        "plt.plot(test_auc_list, label='Test AUC')\n",
        "plt.title('AUC over Epochs')\n",
        "plt.xlabel('Epochs')\n",
        "plt.ylabel('AUC')\n",
        "plt.legend()\n",
        "\n",
        "plt.tight_layout()\n",
        "plt.show()"
      ]
    },
    {
      "cell_type": "code",
      "execution_count": 14,
      "metadata": {
        "colab": {
          "base_uri": "https://localhost:8080/"
        },
        "id": "m-NXH9bEqdqs",
        "outputId": "c1c67d11-be90-435c-beaa-b9e696f68da6"
      },
      "outputs": [
        {
          "name": "stdout",
          "output_type": "stream",
          "text": [
            "[-1.2113705  -1.0596     -1.146272   -1.1443672  -1.3478926  -1.4719472\n",
            " -1.095003    0.44989756 -0.325551   -0.56926006]\n"
          ]
        }
      ],
      "source": [
        "model = joblib.load('recommendation_hybrid_model.pkl')\n",
        "test_prediction = model.predict(0, np.arange(10), user_features=user_features, item_features=item_features)\n",
        "print(test_prediction)"
      ]
    },
    {
      "cell_type": "code",
      "execution_count": 15,
      "metadata": {
        "colab": {
          "base_uri": "https://localhost:8080/"
        },
        "id": "NDeAF9BTqmqv",
        "outputId": "7f222548-f1b7-440c-e720-a036d30c465b"
      },
      "outputs": [
        {
          "name": "stdout",
          "output_type": "stream",
          "text": [
            "Prediction successful: [-1.2113705  -1.0596     -1.146272   -1.1443672  -1.3478926  -1.4719472\n",
            " -1.095003    0.44989756 -0.325551   -0.56926006]\n"
          ]
        }
      ],
      "source": [
        "# Check if model can predict without error\n",
        "try:\n",
        "    test_prediction = model.predict(0, np.arange(10), user_features=user_features, item_features=item_features)\n",
        "    print(\"Prediction successful:\", test_prediction)\n",
        "except Exception as e:\n",
        "    print(\"Error during prediction:\", str(e))\n"
      ]
    },
    {
      "cell_type": "code",
      "execution_count": 16,
      "metadata": {
        "colab": {
          "base_uri": "https://localhost:8080/"
        },
        "id": "JqpoGJQ2rJfi",
        "outputId": "0e44ebcf-93f8-4daf-a3c6-62b94120d5fd"
      },
      "outputs": [
        {
          "name": "stdout",
          "output_type": "stream",
          "text": [
            "Similar Items to Item ID 10: [29028 29014 29020 29043 10160  9098 29008  9052 27508 29016]\n"
          ]
        }
      ],
      "source": [
        "def similar_items(item_id, model, item_features, N=10):\n",
        "    # Get item representations (biases and features)\n",
        "    item_bias, item_representations = model.get_item_representations(features=item_features)\n",
        "    # Compute cosine similarity\n",
        "    target_item_representation = item_representations[item_id]\n",
        "    scores = item_representations.dot(target_item_representation)\n",
        "    top_indices = np.argsort(-scores)[:N]\n",
        "    return top_indices\n",
        "\n",
        "# Example of finding similar items\n",
        "item_id = 13842\n",
        "similar_ids = similar_items(item_id, model, item_features)\n",
        "print(\"Similar Items to Item ID 10:\", similar_ids)"
      ]
    },
    {
      "cell_type": "code",
      "execution_count": 17,
      "metadata": {
        "colab": {
          "base_uri": "https://localhost:8080/"
        },
        "id": "p6c5-b2PrMa2",
        "outputId": "109e4605-66db-4220-f6d5-47864f0b7ca1"
      },
      "outputs": [
        {
          "name": "stdout",
          "output_type": "stream",
          "text": [
            "Similar users: [30104 45742 46943 96146  5332 46219 30766 27457 99434 12443]\n"
          ]
        }
      ],
      "source": [
        "def similar_users(user_id, model, user_features, N=10):\n",
        "    user_bias, user_representations = model.get_user_representations(features=user_features)\n",
        "    target_user_representation = user_representations[user_id]\n",
        "    scores = user_representations.dot(target_user_representation)\n",
        "    top_indices = np.argsort(-scores)[:N]\n",
        "    return top_indices\n",
        "\n",
        "# Example of finding similar items\n",
        "user_id = 39\n",
        "similar_ids = similar_users(user_id, model, user_features)\n",
        "print(\"Similar users:\", similar_ids)"
      ]
    },
    {
      "cell_type": "code",
      "execution_count": 18,
      "metadata": {
        "colab": {
          "base_uri": "https://localhost:8080/"
        },
        "id": "_QAYelF2shPh",
        "outputId": "d8047abd-c507-44e5-9e01-b0b4679441f9"
      },
      "outputs": [
        {
          "name": "stdout",
          "output_type": "stream",
          "text": [
            "          id                                               name\n",
            "3289    7796        Rebecca Minkoff Women's Joni Harness Jacket\n",
            "3824   13525  Becca by Rebecca Virtue South of the Border Bu...\n",
            "10490  16033            Robert Graham Men's Clark Regular Cuffs\n",
            "15132   3352                       2B Gabrielle Tank Maxi Dress\n",
            "20880  20460  Men's Turquoise Paisley Jacquard Suit Vest and...\n",
            "21033  20814            True Religion Men's Billy Boot Cut Jean\n",
            "22805  15645  Angelina 1/2 Cotton + 1/2 Lace Year-Round Ligh...\n",
            "26408  27063      Family Guy Stewie Men's Microfleece Sleep Set\n",
            "27238  14392  La Leche League International Pullover Nursing...\n",
            "28390   3394                     maxandcleo Women's Layla Dress\n"
          ]
        }
      ],
      "source": [
        "def generate_recommendations(model, user_id, user_features, item_features, dataset, products_df, num_items=10):\n",
        "    user_x = dataset.mapping()[0][user_id]\n",
        "    scores = model.predict(user_x, np.arange(dataset.interactions_shape()[1]), user_features=user_features, item_features=item_features)\n",
        "    top_items_indices = np.argsort(-scores)[:num_items]\n",
        "    top_items_ids = [dataset.mapping()[2][i] for i in top_items_indices]\n",
        "    # Get item names or other details from products_df\n",
        "    top_items_details = products_df[products_df['id'].isin(top_items_ids)][['id', 'name']]\n",
        "    return top_items_details\n",
        "\n",
        "# Example of finding similar items\n",
        "user_id = 39 # You need to replace this with a valid item ID from your dataset\n",
        "recommendations = generate_recommendations(model, user_id, user_features, item_features, dataset,products_df, num_items=10)\n",
        "print(recommendations)"
      ]
    },
    {
      "cell_type": "markdown",
      "metadata": {
        "id": "8fBjCPvuyFU2"
      },
      "source": [
        "Solution for Cold Start Problem"
      ]
    },
    {
      "cell_type": "code",
      "execution_count": 40,
      "metadata": {
        "id": "Nh167OKs7a4q"
      },
      "outputs": [],
      "source": [
        "from scipy.sparse import csr_matrix\n",
        "\n",
        "# Define user features as a dictionary or similar structure\n",
        "features_dict = {\n",
        "    'gender_male': 1,\n",
        "    'age_25': 1,\n",
        "    'location_Daegu': 1,\n",
        "    'brand_Perry_Ellis': 1\n",
        "}\n",
        "\n",
        "# Assuming the total number of features is known and indexed\n",
        "num_features = 100  # Adjust this to the actual number of different feature tokens you have\n",
        "feature_indices = {\n",
        "    'gender_male': 0,\n",
        "    'age_25': 1,\n",
        "    'location_Daegu': 2,\n",
        "    'brand_Perry_Ellis': 3\n",
        "}\n",
        "\n",
        "# Create feature vector\n",
        "feature_vector = [0] * num_features\n",
        "for feature, index in feature_indices.items():\n",
        "    if feature in features_dict:\n",
        "        feature_vector[index] = features_dict[feature]\n",
        "\n",
        "# Convert to CSR matrix\n",
        "user_features_csr = csr_matrix(feature_vector)\n"
      ]
    },
    {
      "cell_type": "code",
      "execution_count": 41,
      "metadata": {
        "colab": {
          "base_uri": "https://localhost:8080/"
        },
        "id": "8myE-id17guY",
        "outputId": "793ebc23-2d6d-4d95-f777-a519150c53b9"
      },
      "outputs": [
        {
          "name": "stdout",
          "output_type": "stream",
          "text": [
            "Predictions: [-0.65928894 -0.640985   -0.6363938  ... -0.5210588  -0.53836757\n",
            " -0.5682372 ]\n"
          ]
        }
      ],
      "source": [
        "# Load the model\n",
        "model = joblib.load('recommendation_hybrid_model.pkl')\n",
        "\n",
        "# Predicting with a manually created CSR matrix\n",
        "num_items = dataset.interactions_shape()[1]  # Number of items\n",
        "new_user_predictions = model.predict(0, np.arange(num_items), user_features=user_features_csr, item_features=item_features)\n",
        "\n",
        "# Output the predictions\n",
        "print(\"Predictions:\", new_user_predictions)"
      ]
    },
    {
      "cell_type": "code",
      "execution_count": 42,
      "metadata": {
        "colab": {
          "base_uri": "https://localhost:8080/"
        },
        "id": "ehttySCa9XyN",
        "outputId": "55a739ab-3180-474f-d73e-af24e1e4859e"
      },
      "outputs": [
        {
          "name": "stdout",
          "output_type": "stream",
          "text": [
            "Top Recommended Items:\n",
            "          id                                               name\n",
            "2311   18788         Mundo Unico Men's Classic Jock Strap Thong\n",
            "3389   23977                            Men's Cashmere Pea Coat\n",
            "7696   26507  Majestic International Men's Weather Wise Flan...\n",
            "11135  26818     Croft & BarrowÂ® Men's Camouflage Lounge Pants\n",
            "13651  23069    Tommy Bahama Key Grip Cargo Bermuda Golf Shorts\n",
            "18719  20198          Port Authority J753 Classic Poplin Jacket\n",
            "20570  23131     Ed Garments Men's Flat Front Chino Short. 2450\n",
            "20573  23416  Ed Garments Men's Flat Front Utility Cargo Sho...\n",
            "24315  24158  Charles River Apparel Men's Windproof Hooded R...\n",
            "28251  22312             Royal Bones Red Plaid Zip Skinny Pants\n"
          ]
        }
      ],
      "source": [
        "import numpy as np\n",
        "import joblib\n",
        "\n",
        "# Load the model\n",
        "model = joblib.load('recommendation_hybrid_model.pkl')\n",
        "\n",
        "# Predicting with a manually created CSR matrix\n",
        "num_items = dataset.interactions_shape()[1]  # Number of items\n",
        "new_user_predictions = model.predict(0, np.arange(num_items), user_features=user_features_csr, item_features=item_features)\n",
        "\n",
        "# Extract the indices of the top items based on scores\n",
        "top_items_indices = np.argsort(-new_user_predictions)[:10]\n",
        "\n",
        "# Get the IDs of the top items from the indices\n",
        "top_item_ids = products_df.iloc[top_items_indices]['id']\n",
        "\n",
        "# Fetch details for these top items from your products DataFrame\n",
        "top_items_details = products_df[products_df['id'].isin(top_item_ids)][['id', 'name']]\n",
        "\n",
        "# Output the top item details\n",
        "print(\"Top Recommended Items:\")\n",
        "print(top_items_details)\n"
      ]
    },
    {
      "cell_type": "code",
      "execution_count": 43,
      "metadata": {
        "colab": {
          "base_uri": "https://localhost:8080/"
        },
        "id": "AUb2-l4jOScb",
        "outputId": "48ddc6b7-b0ff-4ddc-8b58-d3911ced8dcc"
      },
      "outputs": [
        {
          "name": "stdout",
          "output_type": "stream",
          "text": [
            "Predictions: [-0.34894386 -0.36325666 -0.3358236  ... -0.20552522 -0.26094827\n",
            " -0.27519575]\n",
            "Top Recommended Items:\n",
            "         id                                               name\n",
            "25609  7488  Allegra K Lady V Neck Single Breasted Puff Sle...\n",
            "25610  7490  Allegra K Lady Single Button Fastening Long Sl...\n",
            "25622  7543  Allegra K Ladies Single Button Closure Front P...\n",
            "25624  7571  Allegra K Ladies Single Breasted Button-tab Pu...\n",
            "25629  7612  Allegra K Lady Shawl Collar Long Sleeve Button...\n",
            "25633  7625  Allegra K Ladies Long Sleeve Solid Color Hook ...\n",
            "25646  7675  Allegra K Lady Long Sleeve Front Opening Two P...\n",
            "25648  7695  Allegra K Front Opening Long Sleeve Womenwear ...\n",
            "25649  7699  Allegra K Lady Long Sleeve Shawl Collar Button...\n",
            "25651  7722  Allegra K Ladies Capri Sleeve Front Opening Pa...\n",
            "25684  7856  Allegra K Women Deep V Neck Long Sleeves Butto...\n",
            "25686  7861  Allegra K Women Striped Long Sleeve Cropped Au...\n",
            "25696  7876  Allegra K Ladies Padded Shoulder Long Sleeve F...\n",
            "25709  7896  Allegra K Ladies Soild Color Long Sleeves Casu...\n",
            "25714  7904  Allegra K Women Point Collar Front Opening One...\n",
            "25723  7916  Allegra K Ladies Long Sleeves Padded Shoulder ...\n",
            "25724  7917  Allegra K Ladies Capri Sleeve Notched Lapel Tw...\n",
            "25733  7933  Allegra K Ladies Turn Up Collar Flower Printed...\n",
            "25750  7978  Allegra K Ladies Dipped Hem Short Sleeve Semi ...\n",
            "25763  8005  Allegra K Ladies Batwing Sleeve Single Breaste...\n"
          ]
        }
      ],
      "source": [
        "from scipy.sparse import csr_matrix\n",
        "\n",
        "# Updated user features for a female user\n",
        "features_dict = {\n",
        "    'gender_female': 1,  # Assuming the model was trained with this feature\n",
        "    'age_25': 1,\n",
        "    'location_Daegu': 1,\n",
        "    'brand_Perry_Ellis': 1\n",
        "}\n",
        "\n",
        "# Assuming the total number of features is known and indexed, update accordingly\n",
        "num_features = 100  # This should match your model's feature setup\n",
        "feature_indices = {\n",
        "    'gender_female': 1,  # Update the index as per your model's feature indexing\n",
        "    'age_25': 1,\n",
        "    'location_Daegu': 2,\n",
        "    'brand_Perry_Ellis': 3\n",
        "}\n",
        "\n",
        "# Create the feature vector based on the defined features\n",
        "feature_vector = [0] * num_features\n",
        "for feature, index in feature_indices.items():\n",
        "    if feature in features_dict:\n",
        "        feature_vector[index] = features_dict[feature]\n",
        "\n",
        "# Convert to CSR matrix\n",
        "user_features_csr = csr_matrix(feature_vector)\n",
        "\n",
        "# Load the model\n",
        "model = joblib.load('recommendation-model/recommendation_hybrid_model.pkl')\n",
        "\n",
        "# Predicting with a manually created CSR matrix\n",
        "num_items = dataset.interactions_shape()[1]  # Number of items\n",
        "new_user_predictions = model.predict(0, np.arange(num_items), user_features=user_features_csr, item_features=item_features)\n",
        "\n",
        "# Output the predictions\n",
        "print(\"Predictions:\", new_user_predictions)\n",
        "\n",
        "# Predicting with a manually created CSR matrix\n",
        "num_items = dataset.interactions_shape()[1]  # Number of items\n",
        "new_user_predictions = model.predict(0, np.arange(num_items), user_features=user_features_csr, item_features=item_features)\n",
        "\n",
        "# Extract the indices of the top items based on scores\n",
        "top_items_indices = np.argsort(-new_user_predictions)[:20]\n",
        "\n",
        "# Get the IDs of the top items from the indices\n",
        "top_item_ids = products_df.iloc[top_items_indices]['id']\n",
        "\n",
        "# Fetch details for these top items from your products DataFrame\n",
        "top_items_details = products_df[products_df['id'].isin(top_item_ids)][['id', 'name']]\n",
        "\n",
        "# Output the top item details\n",
        "print(\"Top Recommended Items:\")\n",
        "print(top_items_details)\n"
      ]
    }
  ],
  "metadata": {
    "accelerator": "GPU",
    "colab": {
      "gpuType": "T4",
      "provenance": []
    },
    "kernelspec": {
      "display_name": "Python 3",
      "name": "python3"
    },
    "language_info": {
      "name": "python"
    }
  },
  "nbformat": 4,
  "nbformat_minor": 0
}
